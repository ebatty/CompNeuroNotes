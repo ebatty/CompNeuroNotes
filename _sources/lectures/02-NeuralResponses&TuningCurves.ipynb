{
 "nbformat": 4,
 "nbformat_minor": 0,
 "metadata": {
  "colab": {
   "name": "02-NeuralResponses&TuningCurves.ipynb",
   "provenance": [],
   "collapsed_sections": [],
   "toc_visible": true,
   "include_colab_link": true
  },
  "kernelspec": {
   "name": "python3",
   "display_name": "Python 3"
  },
  "language_info": {
   "name": "python"
  }
 },
 "cells": [
  {
   "cell_type": "markdown",
   "metadata": {
    "id": "view-in-github",
    "colab_type": "text"
   },
   "source": [
    "<a href=\"https://colab.research.google.com/github/ebatty/IntroCompNeuro/blob/main/lectures/02-NeuralResponses%26TuningCurves.ipynb\" target=\"_blank\"><img alt=\"Open In Colab\" src=\"https://colab.research.google.com/assets/colab-badge.svg\"/></a>"
   ]
  },
  {
   "cell_type": "markdown",
   "metadata": {
    "id": "ZyrCnMGfO8QR"
   },
   "source": [
    "# 02 - Neural Responses & Tuning Curves\n",
    "\n",
    "**Learning objectives of lecture/notes**:\n",
    "After lecture, students should be able to:\n",
    "- Interpret information about neural firing from raster plots & PSTHs\n",
    "- Know the steps for constructing raster plots & PSTHs\n",
    "- Interpret information about neural response to a stimulus from a tuning curve\n"
   ]
  },
  {
   "cell_type": "markdown",
   "metadata": {},
   "source": [
    "```{admonition} **Stop and think!** What would happen if you choose a bin width that's too big? Too small?\n",
    ":class: tip, dropdown\n",
    "Too big a bin and you might lose temporal information in the neural reponses because you're summing spikes over a long period of time. Too small a bin and the PSTH could be hard to interpret. For example, imagine if you chose a time bin small enough that there was almost always at most 1 spike in each, even across all trials. The PSTH would not convey much information. See Figures 5 and 6 to see too big a bin width and too small a bin width, respectively.",
    "```"
   ]
  },
  {
   "cell_type": "code",
   "metadata": {
    "cellView": "form",
    "id": "c8AiLm6tS2Rt",
    "tags": [
     "hide-input"
    ]
   },
   "source": [
    "```{admonition} **Stop and think!** What can you conclude about the neural responses to whatever the trial is from the raster in Figure 3?\n",
    ":class: tip, dropdown\n",
    "From the raster, in Figure 3, you can conclude that the neurons in the population are firing at similar times of the trial as each other.",
    "```"
   ],
   "execution_count": 4,
   "outputs": []
  },
  {
   "cell_type": "markdown",
   "metadata": {
    "id": "5zxAYk02PiXv"
   },
   "source": [
    "# Section 1: Experimental set-up\n",
    "\n",
    "In the next few sections, we will cover important concepts in the context of a case study. In this case study, you are a computational neuroscientist and you have a hypothesis that some neurons in monkey motor cortex correlate with the direction of arm movement while reaching. By this, you mean that a particular neuron will fire more when the monkey reaches in certain directions than others.  \n",
    "\n",
    "You are able to record the spike times of a neuron from motor cortex in a monkey. \n"
   ]
  },
  {
   "cell_type": "markdown",
   "metadata": {
    "id": "8VoGLa9bOIfQ"
   },
   "source": [
    "**Stop and think!** What do you want the experiment to look like?\n",
    "\n",
    "\n",
    "You choose an experimental set-up which will allow pretty easy analysis of the data. You have a monkey reach in eight different directions while recording from the neuron. Importantly, you have the monkey reach in each direction numerous times, not just once. You record the time the reach is initiated, perhaps by having the monkey hold onto a joystick with a sensor in it until they reach (the sensor can automatically record when the monkey lets go).\n"
   ]
  },
  {
   "cell_type": "markdown",
   "metadata": {
    "id": "7GqfWM0fOFHm"
   },
   "source": [
    "This is a typical experimental protocol in neuroscience: recording the spike times of a neuron while presenting the same stimulus over and over, or having the animal perform the same behavior over and over. Each presentation of the stimulus or iteration of the behavior is called a **trial**. Neurons are noisy - they do not respond exactly the same way every time they see the same stimulus or behavior - collecting multiple trials of data helps us better understand the neural responses and see how variable they are.\n",
    "\n",
    "You go ahead and perform your experiment and collect a bunch of data. You now have the spike times of the neuron during multiple reachs in the same direction (and you have this for 8 different directions)."
   ]
  },
  {
   "cell_type": "markdown",
   "metadata": {
    "id": "5McS2n4nVMDM"
   },
   "source": [
    "# Section 2: Visualizing Neural Reponses\n",
    "\n",
    "The very first thing you should do when you collect new data or receive data from someone else is visualize it! The importance of this step cannot be overemphasized.\n",
    "\n"
   ]
  },
  {
   "cell_type": "markdown",
   "metadata": {
    "id": "KcLTYTAPIihJ"
   },
   "source": [
    "## Section 2.1: Raster Plots \n",
    "\n",
    "An excellent and common way to visualize neural spiking in multiple trials is a **raster plot**, an example of which can be found in Figure 1. In this style of plot, time is represented on the x-axis. Each spike is represented by a vertical line at the time it occurs. Each row (y-axis) can be a separate trial - in this case the raster plot displays a single neuron's responses over multiple trials and can be used to quickly assess response variability. Alternatively, each row can show the responses of a single neuron - in this case the raster plot displays a population of neuron's responses.\n",
    "\n",
    "Note that the timing of each trial needs to be synced. In other words, the stimulus onset, or event onset, should happen at the same time in each trial. For example, the blue line in Figure 1 could indicate the time that the monkey starts the reach movement."
   ]
  },
  {
   "cell_type": "markdown",
   "metadata": {
    "id": "YjSCtmePM5Wg"
   },
   "source": [
    "<img src=\"https://praneethnamburi.files.wordpress.com/2015/02/02_raster_baselineandstim.png\" alt=\"rasterplotexample\">\n",
    "\n",
    "*Figure 1: An example raster plot, from https://praneethnamburi.com/category/matlab/*\n"
   ]
  },
  {
   "cell_type": "markdown",
   "metadata": {
    "id": "hpPdrE6MM-FC"
   },
   "source": [
    "**Stop and think!** What can you conclude about the neural responses to whatever the trial is from the raster in Figure 1?\n",
    "\n",
    "\n",
    "From the raster, in Figure 1, you can see that the neuron tends to respond slightly more after the event (blue line) than before, but there are not very time-locked responses. In other words, there are not certain points in the trial where the neuron always responds."
   ]
  },
  {
   "cell_type": "markdown",
   "metadata": {
    "id": "YbYY-OvDNZao"
   },
   "source": [
    "<img src=\"https://media.springernature.com/lw685/springer-static/image/art%3A10.1007%2Fs10827-018-0693-9/MediaObjects/10827_2018_693_Fig3_HTML.png?as=webp\" alt=\"rasterplotexample1\">\n",
    "\n",
    "*Figure 2: Another example raster plot, from https://link.springer.com/article/10.1007/s10827-018-0693-9*"
   ]
  },
  {
   "cell_type": "markdown",
   "metadata": {
    "id": "FNC529OCMsHp"
   },
   "source": [
    "**Stop and think!** What can you conclude about the neural responses to whatever the trial is from the raster in Figure 2?\n",
    "\n",
    "\n",
    "From the raster in Figure 2 (the top row), you can see that the neuron responds in a time-locked manner - there are certain times during the trial where the neuron reliably spikes (the black columns indicate a spike in every row)."
   ]
  },
  {
   "cell_type": "markdown",
   "metadata": {
    "id": "hxTEA5Y8LvEO"
   },
   "source": [
    "As mentioned above, we could also have the rows indicate different neurons - see Figure 3A for an example of this."
   ]
  },
  {
   "cell_type": "markdown",
   "metadata": {
    "id": "clamBZwCQOb9"
   },
   "source": [
    "<img src=\"https://s3-eu-west-1.amazonaws.com/ppreviews-plos-725668748/1638070/preview.jpg\" alt=\"rasterplotexample1\">\n",
    "\n",
    "*Figure 3: A) An example raster plot with rows as different neurons, from https://www.researchgate.net/publication/264865592_Large-Scale_High-Resolution_Multielectrode-Array_Recording_Depicts_Functional_Network_Differences_of_Cortical_and_Hippocampal_Cultures*"
   ]
  },
  {
   "cell_type": "markdown",
   "metadata": {
    "id": "2AL84eP-Qk-c"
   },
   "source": [
    "**Stop and think!** What can you conclude about the neural responses to whatever the trial is from the raster in Figure 3?\n",
    "\n",
    "\n",
    "From the raster, in Figure 3, you can conclude that the neurons in the population are firing at similar times of the trial as each other."
   ]
  },
  {
   "cell_type": "markdown",
   "metadata": {
    "id": "uT2rGj40NcAP"
   },
   "source": [
    "## Section 2.2: PSTHs\n",
    "\n",
    "We can summarize the information over trials contained in a raster plot in a peri-stimulus time histogram (PSTH), also sometimes called a peri-event time histogram (PETH). In this plot, we want to show the average underlying firing rate over time. To do that, we need to use discrete chunks of time - we divide time into time bins of some length. For each time bin, we can then count the number of spikes in that time bin over all the trials. We can then get the average spikes/bin for that time bin during the trial as the the number of spikes divided by the number of trials.\n",
    "\n",
    "See Figure 4 for an example of the construction of a PSTH from 5 trials of neural data, where each trial is just 30 ms long. We use a bin width of 5 ms - the red vertical lines denote the bin edges. We then count up the number of spikes over all the trials (2 for the first time bin), divide by the number of trials (to get to 2/5 for the first time bin), and that is our average firing rate in spikes/bin for that part of the trial.\n",
    "\n",
    "\n"
   ]
  },
  {
   "cell_type": "markdown",
   "metadata": {},
   "source": [
    " \n"
   ]
  },
  {
   "cell_type": "code",
   "metadata": {
    "cellView": "form",
    "id": "c8rBKgY2SZlS",
    "outputId": "52ecc19b-eac8-4bcf-f772-821a9a460e2f",
    "colab": {
     "base_uri": "https://localhost:8080/",
     "height": 458
    },
    "tags": [
     "hide-input"
    ]
   },
   "source": [
    "# @markdown \n",
    "import matplotlib\n",
    "matplotlib.rcParams.update({'font.size': 18})\n",
    "\n",
    "all_sp_time_list = [np.array([5.4, 11.1, 15.6, 16.7, 27.8]),\n",
    "                    np.array([1.4, 11.9, 15.9, 17.7, 28]),\n",
    "                    np.array([8.6, 10.6, 13.2, 14.2, 27]),\n",
    "                    np.array([8.9, 11.9, 12.9, 14.5, 26.3]),\n",
    "                    np.array([.4, 8.2, 10.6, 13.2, 16.9, 28])]\n",
    "\n",
    "# Make raster plot\n",
    "fig, axes = plt.subplots(2, 1, figsize=(12, 7), sharex=True)\n",
    "\n",
    "# Make raster of this data\n",
    "axes[0].eventplot(all_sp_time_list, colors = 'black')\n",
    "\n",
    "# Label x and y axes (with units!)\n",
    "axes[0].set( #xlabel = 'Time (ms)', \n",
    "       ylabel = 'Trial Number',\n",
    "       xlim = [0, 30],\n",
    "       ylim = [-.7, 4.7],\n",
    "       yticks = [0, 1, 2, 3, 4],\n",
    "       yticklabels = [1, 2, 3, 4, 5]);\n",
    "\n",
    "# Plot bin vertical lines \n",
    "bin_width = 5\n",
    "bin_edge_times = np.arange(0, 30.1, bin_width)\n",
    "for bin_time in bin_edge_times:\n",
    "  axes[0].plot([bin_time, bin_time], [-.7, 4.7], 'r')\n",
    "\n",
    "# Make PSTH\n",
    "\n",
    "binned_spikes, _ = np.histogram(np.concatenate(all_sp_time_list, axis=0), bins = bin_edge_times)\n",
    "\n",
    "x_vals = np.arange(0, 30, .1)\n",
    "y_vals = np.zeros((len(x_vals)))\n",
    "for i_bin in range(len(bin_edge_times) - 1):\n",
    "  y_vals[(x_vals > bin_edge_times[i_bin]) & (x_vals <= bin_edge_times[i_bin + 1])] = binned_spikes[i_bin] / 5\n",
    "\n",
    "axes[1].plot(x_vals, y_vals,  'k');\n",
    "\n",
    "axes[1].set(xlabel = 'Time (ms)', \n",
    "            ylabel = 'Firing rate (spikes/bin)');"
   ],
   "execution_count": 72,
   "outputs": [
    {
     "output_type": "display_data",
     "data": {
      "image/png": "[encoded data removed]",
      "text/plain": [
       "<Figure size 864x504 with 2 Axes>"
      ]
     },
     "metadata": {
      "needs_background": "light"
     }
    }
   ]
  },
  {
   "cell_type": "markdown",
   "metadata": {
    "id": "em6qoLEuWVrW"
   },
   "source": [
    "*Figure 4: PSTH (bottom row) constructed from a raster plot (top row) with a bin width of 5 ms.*"
   ]
  },
  {
   "cell_type": "markdown",
   "metadata": {
    "id": "nY-AcjEJXNU9"
   },
   "source": [
    "**Stop and think!** What would happen if you choose a bin width that's too big? Too small?\n",
    "\n",
    "Too big a bin and you might lose temporal information in the neural reponses because you're summing spikes over a long period of time. Too small a bin and the PSTH could be hard to interpret. For example, imagine if you chose a time bin small enough that there was almost always at most 1 spike in each, even across all trials. The PSTH would not convey much information. See Figures 5 and 6 to see too big a bin width and too small a bin width, respectively."
   ]
  },
  {
   "cell_type": "markdown",
   "metadata": {},
   "source": [
    " \n"
   ]
  },
  {
   "cell_type": "code",
   "metadata": {
    "cellView": "form",
    "id": "htuWKoIAXDD9",
    "outputId": "62685898-fb2e-48b6-d5c6-151b7005989e",
    "colab": {
     "base_uri": "https://localhost:8080/",
     "height": 458
    },
    "tags": [
     "hide-input"
    ]
   },
   "source": [
    "# @markdown \n",
    "import matplotlib\n",
    "matplotlib.rcParams.update({'font.size': 18})\n",
    "\n",
    "all_sp_time_list = [np.array([5.4, 11.1, 15.6, 16.7, 27.8]),\n",
    "                    np.array([1.4, 11.9, 15.9, 17.7, 28]),\n",
    "                    np.array([8.6, 10.6, 13.2, 14.2, 27]),\n",
    "                    np.array([8.9, 11.9, 12.9, 14.5, 26.3]),\n",
    "                    np.array([.4, 8.2, 10.6, 13.2, 16.9, 28])]\n",
    "\n",
    "# Make raster plot\n",
    "fig, axes = plt.subplots(2, 1, figsize=(12, 7), sharex=True)\n",
    "\n",
    "# Make raster of this data\n",
    "axes[0].eventplot(all_sp_time_list, colors = 'black')\n",
    "\n",
    "# Label x and y axes (with units!)\n",
    "axes[0].set( #xlabel = 'Time (ms)', \n",
    "       ylabel = 'Trial Number',\n",
    "       xlim = [0, 30],\n",
    "       ylim = [-.7, 4.7],\n",
    "       yticks = [0, 1, 2, 3, 4],\n",
    "       yticklabels = [1, 2, 3, 4, 5]);\n",
    "\n",
    "# Plot bin vertical lines \n",
    "bin_width = 15\n",
    "bin_edge_times = np.arange(0, 30.1, bin_width)\n",
    "for bin_time in bin_edge_times:\n",
    "  axes[0].plot([bin_time, bin_time], [-.7, 4.7], 'r')\n",
    "\n",
    "# Make PSTH\n",
    "\n",
    "binned_spikes, _ = np.histogram(np.concatenate(all_sp_time_list, axis=0), bins = bin_edge_times)\n",
    "\n",
    "x_vals = np.arange(0, 30, .1)\n",
    "y_vals = np.zeros((len(x_vals)))\n",
    "for i_bin in range(len(bin_edge_times) - 1):\n",
    "  y_vals[(x_vals > bin_edge_times[i_bin]) & (x_vals <= bin_edge_times[i_bin + 1])] = binned_spikes[i_bin] / 5\n",
    "\n",
    "axes[1].plot(x_vals, y_vals,  'k');\n",
    "\n",
    "axes[1].set(xlabel = 'Time (ms)', \n",
    "            ylabel = 'Firing rate (spikes/bin)');"
   ],
   "execution_count": 73,
   "outputs": [
    {
     "output_type": "display_data",
     "data": {
      "image/png": "[encoded data removed]",
      "text/plain": [
       "<Figure size 864x504 with 2 Axes>"
      ]
     },
     "metadata": {
      "needs_background": "light"
     }
    }
   ]
  },
  {
   "cell_type": "markdown",
   "metadata": {
    "id": "beLQ2qi0XxkO"
   },
   "source": [
    "*Figure 5: PSTH (bottom row) constructed from a raster plot (top row) with a bin width of 15 ms. This bin width is too large and you lose a lot of temporal information!*"
   ]
  },
  {
   "cell_type": "markdown",
   "metadata": {},
   "source": [
    " \n"
   ]
  },
  {
   "cell_type": "code",
   "metadata": {
    "cellView": "form",
    "id": "wHp2vVACX1LA",
    "outputId": "f8a7c337-dff8-48fa-cfdd-94ffcaecacc9",
    "colab": {
     "base_uri": "https://localhost:8080/",
     "height": 453
    },
    "tags": [
     "hide-input"
    ]
   },
   "source": [
    "# @markdown \n",
    "import matplotlib\n",
    "matplotlib.rcParams.update({'font.size': 18})\n",
    "\n",
    "all_sp_time_list = [np.array([5.4, 11.1, 15.6, 16.7, 27.8]),\n",
    "                    np.array([1.4, 11.9, 15.9, 17.7, 28]),\n",
    "                    np.array([8.6, 10.6, 13.2, 14.2, 27]),\n",
    "                    np.array([8.9, 11.9, 12.9, 14.5, 26.3]),\n",
    "                    np.array([.4, 8.2, 10.6, 13.2, 16.9, 28])]\n",
    "\n",
    "# Make raster plot\n",
    "fig, axes = plt.subplots(2, 1, figsize=(12, 7), sharex=True)\n",
    "\n",
    "# Make raster of this data\n",
    "axes[0].eventplot(all_sp_time_list, colors = 'black')\n",
    "\n",
    "# Label x and y axes (with units!)\n",
    "axes[0].set( #xlabel = 'Time (ms)', \n",
    "       ylabel = 'Trial Number',\n",
    "       xlim = [0, 30],\n",
    "       ylim = [-.7, 4.7],\n",
    "       yticks = [0, 1, 2, 3, 4],\n",
    "       yticklabels = [1, 2, 3, 4, 5]);\n",
    "\n",
    "# Plot bin vertical lines \n",
    "bin_width = .5\n",
    "bin_edge_times = np.arange(0, 30.1, bin_width)\n",
    "for bin_time in bin_edge_times:\n",
    "  axes[0].plot([bin_time, bin_time], [-.7, 4.7], 'r')\n",
    "\n",
    "# Make PSTH\n",
    "\n",
    "binned_spikes, _ = np.histogram(np.concatenate(all_sp_time_list, axis=0), bins = bin_edge_times)\n",
    "\n",
    "x_vals = np.arange(0, 30, .1)\n",
    "y_vals = np.zeros((len(x_vals)))\n",
    "for i_bin in range(len(bin_edge_times) - 1):\n",
    "  y_vals[(x_vals > bin_edge_times[i_bin]) & (x_vals <= bin_edge_times[i_bin + 1])] = binned_spikes[i_bin] / 5\n",
    "\n",
    "axes[1].plot(x_vals, y_vals,  'k');\n",
    "\n",
    "axes[1].set(xlabel = 'Time (ms)', \n",
    "            ylabel = 'Firing rate (spikes/bin)');"
   ],
   "execution_count": 75,
   "outputs": [
    {
     "output_type": "display_data",
     "data": {
      "image/png": "[encoded data removed]",
      "text/plain": [
       "<Figure size 864x504 with 2 Axes>"
      ]
     },
     "metadata": {
      "needs_background": "light"
     }
    }
   ]
  },
  {
   "cell_type": "markdown",
   "metadata": {
    "id": "olRgfx2iX9Zd"
   },
   "source": [
    "*Figure 6: PSTH (bottom row) constructed from a raster plot (top row) with a bin width of .5 ms. This bin width is too small - the PSTH conveys a lot about the exact spike timings in this set of trials but doesn't give us a sense of how the underlying firing rate is changing over time*"
   ]
  },
  {
   "cell_type": "markdown",
   "metadata": {
    "id": "z4W24kxjOzKb"
   },
   "source": [
    "# Tuning curves"
   ]
  },
  {
   "cell_type": "code",
   "metadata": {
    "id": "jUccpRd3WDG3"
   },
   "source": [
    ""
   ],
   "execution_count": null,
   "outputs": []
  },
  {
   "cell_type": "code",
   "metadata": {
    "id": "AijPJaMxRF8k"
   },
   "source": [
    ""
   ],
   "execution_count": null,
   "outputs": []
  }
 ]
}