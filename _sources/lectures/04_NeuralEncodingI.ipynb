{
 "nbformat": 4,
 "nbformat_minor": 0,
 "metadata": {
  "colab": {
   "name": "04_NeuralEncodingI.ipynb",
   "provenance": [],
   "authorship_tag": "ABX9TyP2ybI7JNg8vn/z3VyMwyil",
   "include_colab_link": true
  },
  "kernelspec": {
   "name": "python3",
   "display_name": "Python 3"
  },
  "language_info": {
   "name": "python"
  }
 },
 "cells": [
  {
   "cell_type": "markdown",
   "metadata": {
    "id": "view-in-github",
    "colab_type": "text"
   },
   "source": [
    "<a href=\"https://colab.research.google.com/github/ebatty/IntroCompNeuro/blob/main/lectures/04_NeuralEncodingI.ipynb\" target=\"_blank\"><img alt=\"Open In Colab\" src=\"https://colab.research.google.com/assets/colab-badge.svg\"/></a>"
   ]
  },
  {
   "cell_type": "markdown",
   "metadata": {
    "id": "pMREknGF9XZ7"
   },
   "source": [
    "# 04 - Neural Encoding I\n",
    "\n",
    "Coming soon!"
   ]
  }
 ]
}