{
 "nbformat": 4,
 "nbformat_minor": 0,
 "metadata": {
  "colab": {
   "name": "05_NeuralEncodingII.ipynb",
   "provenance": [],
   "authorship_tag": "ABX9TyPVLHCp3ypf6DYBc6XKtBt6",
   "include_colab_link": true
  },
  "kernelspec": {
   "name": "python3",
   "display_name": "Python 3"
  },
  "language_info": {
   "name": "python"
  }
 },
 "cells": [
  {
   "cell_type": "markdown",
   "metadata": {
    "id": "view-in-github",
    "colab_type": "text"
   },
   "source": [
    "<a href=\"https://colab.research.google.com/github/ebatty/IntroCompNeuro/blob/main/lectures/05_NeuralEncodingII.ipynb\" target=\"_blank\"><img alt=\"Open In Colab\" src=\"https://colab.research.google.com/assets/colab-badge.svg\"/></a>"
   ]
  },
  {
   "cell_type": "markdown",
   "metadata": {
    "id": "pMREknGF9XZ7"
   },
   "source": [
    "# 05 - Neural Encoding II\n",
    "\n",
    "Coming soon!"
   ]
  },
  {
   "cell_type": "code",
   "metadata": {
    "id": "egPQLUta-Wk1"
   },
   "source": [
    ""
   ],
   "execution_count": null,
   "outputs": []
  }
 ]
}