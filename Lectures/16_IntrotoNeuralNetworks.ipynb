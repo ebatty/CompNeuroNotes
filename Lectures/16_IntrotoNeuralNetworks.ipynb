{
  "nbformat": 4,
  "nbformat_minor": 0,
  "metadata": {
    "colab": {
      "name": "16_IntrotoNeuralNetworks.ipynb",
      "provenance": [],
      "collapsed_sections": [],
      "toc_visible": true,
      "authorship_tag": "ABX9TyP+aziDSLfzRCf3JU31xD3z",
      "include_colab_link": true
    },
    "kernelspec": {
      "name": "python3",
      "display_name": "Python 3"
    },
    "language_info": {
      "name": "python"
    }
  },
  "cells": [
    {
      "cell_type": "markdown",
      "metadata": {
        "id": "view-in-github",
        "colab_type": "text"
      },
      "source": [
        "<a href=\"https://colab.research.google.com/github/ebatty/IntroCompNeuro/blob/main/Lectures/16_IntrotoNeuralNetworks.ipynb\" target=\"_parent\"><img src=\"https://colab.research.google.com/assets/colab-badge.svg\" alt=\"Open In Colab\"/></a>"
      ]
    },
    {
      "cell_type": "markdown",
      "metadata": {
        "id": "OkpTII-sjyVU"
      },
      "source": [
        "# 16 - Intro to Neural Networks\n"
      ]
    },
    {
      "cell_type": "code",
      "metadata": {
        "id": "AQFyhI4VsPNU"
      },
      "source": [
        "import numpy as np\n",
        "import matplotlib.pyplot as plt"
      ],
      "execution_count": 2,
      "outputs": []
    },
    {
      "cell_type": "markdown",
      "metadata": {
        "id": "PBcFEbRfj8Bh"
      },
      "source": [
        "# Section 1: Intro to neural networks\n",
        "\n"
      ]
    },
    {
      "cell_type": "markdown",
      "metadata": {
        "id": "LPqUHS-TkWIY"
      },
      "source": [
        "## Section 1.1: Neural network choices\n",
        "\n",
        "In neuroscience, we often want to simulate a network, or population, of neurons. To do so, we build a neural network model. We use this neural network simulations to model and understand a range of neuroscience concepts, including population coding, distributed representations, excitatory-inhibitory balance, memory, decision-making, and learning.\n",
        "\n",
        "There are a lot of different options for how we construct our neural network model. \n",
        "\n",
        "**Time**\n",
        "We could model the network using continuous time (i.e. using different equations that evolve over time) or discrete time (have discrete time steps).\n",
        "\n",
        "**Type of neuron**\n",
        "\n",
        "We need to decide the neuron model we will use in our network. One big choice is between rate-based and spiking-based neurons: will we just model neural activations as continuous values (such as firing rates), or will we have spiking behavior? If we choose to have spiking-based neurons, we can choose any of our biological neuron models discussed in class: leaky integrate-and-fire neurons, Hodgkin-Huxley neurons, multi-compartment neural models, etc.\n",
        "\n",
        " **Type of connection**\n",
        "\n",
        " We need to decide how to wire up our neurons. We could have fully connected networks, where every neuron is connected to every other neuron. We could have randomly connected networks, where every neuron is connected to a random subset of the population. We could have sparsely connected networks, where each neuron is connected to only a few others. We could have connections based on spatial structure (such as neurons connecting to nearby neurons) or based on learned structure (train the neural network and learn the structure).\n",
        "\n",
        "**Type of synapse**\n",
        "\n",
        "How will we model the synapses between neurons in the network? We could use simple numbers to denote the weight or strength of the synapse. Alternatively, we could account for temporal effects at synapses and use a temporal kernel. We could also allow the synapses to be plastic (change over time) or static.\n",
        "\n",
        "**Type of inputs**\n",
        "\n",
        "We probably want some input to the network. We could have that input be constant over time, be stochastic so there is some randomness to the input, or have the input be temporally or spatially structured based on properties of the system we're modeling, among other options."
      ]
    },
    {
      "cell_type": "markdown",
      "metadata": {
        "id": "74RRC58nkYcI"
      },
      "source": [
        "## Section 1.2: Rate-based model of neuron"
      ]
    },
    {
      "cell_type": "markdown",
      "metadata": {
        "id": "lXSmi-INmUCY"
      },
      "source": [
        "One of the biggest choices (under type of neuron) is whether our neurons are rate-based or spiking-based. Spiking neural networks are more realistic, as the brain spikes, and allows us to model computations and learning based on things like spike timing and correlations. Unfortunately, these networks are very computationally expensive (in part because we need to model small enough time scales to account for spiking dynamics) and can be more difficult to analyze and train. \n",
        "\n",
        "Rate-based neural networks are more computationally tractable, scale well to larger networks, and are easy to analyze and train. They can capture computations and learning based on rate coding, but obviously ignore effects of exact spike timing/correlations.\n",
        "\n",
        "\n",
        "We will focus on exclusively rate-based neural networks. We will ignore the temporal dynamics of how incoming pre-synaptic action potentials change the incoming current to the cell, and thus will model the synapses of just simple weights. \n",
        "\n",
        "<img src=\"https://raw.githubusercontent.com/ebatty/IntroCompNeuro/main/images/ch7fig1.png\" width = \"300\">\n",
        "\n",
        "Let's say we have a single output neuron getting inputs from multiple input neurons (pictured above in figure from Dayan & Abbott). We will model the firing rates of the input neurons as a vector $\\bar{u}$, where the first element is the firing rate of the first input neuron, the second element is the firing rate of the second input neuron, and so on. We will use $\\bar{w}$ to represent the weights from each input neuron: the first element of $\\bar{w}$ is the weight from input neuron 1, the second is the weight from input neuron 2, and so on.\n",
        "\n",
        "The total input to the output neuron is $\\bar{w}\\cdot\\bar{u}$, the weighted sum of the input neural firing rates, where the weights are the synapse strenghs.\n",
        "\n",
        "We can then write a differential equation for the change in the firing rate of the output neuron over time:\n",
        "\n",
        "\\begin{align}\n",
        "\\tau_r\\frac{dv}{dt} = -v + F(\\bar{w}\\cdot\\bar{u})\n",
        "\\end{align}\n",
        "\n",
        "where $\\tau_r$ is a time constant that controls how quickly the output firing rate changes in response to inputs and $F$ is some function."
      ]
    },
    {
      "cell_type": "markdown",
      "metadata": {
        "id": "lfjZNHZMqOzm"
      },
      "source": [
        "**Stop and think!** Assuming the input neural firing rates are constant over time ($\\bar{u}$ doesn't change based on time), what will the steady state firing rate of the output neuron be (the firing rate it converges to)? In other words, what is the fixed point of the system?\n",
        "\n",
        "We can find the steady state firing rate by setting our differential equation equal to 0 and solving for $v$. This will give us the value of $v$ for which there will be no more change (as the derivative is equal to 0). We find that🇰\n",
        "\n",
        "\\begin{align}\n",
        "v = F(\\bar{w}\\cdot\\bar{u})\n",
        "\\end{align}"
      ]
    },
    {
      "cell_type": "markdown",
      "metadata": {
        "id": "VoJNf9UIq4TW"
      },
      "source": [
        "Let's look at an example. Let's say we have two input neurons and their firing rate does not change over time. The first input neuron fires at 5 Hz and the second at 2 Hz so \\begin{align}\\bar{u} = \\begin{bmatrix}1\\\\3\\end{bmatrix}\\end{align}.\n",
        "Our weight matrix is \\begin{align}\\bar{w} = \\begin{bmatrix}.2\\\\.1\\end{bmatrix}\\end{align}. And our function $F$ is \\begin{align}F(x) = \\frac{1}{1+e^{-x}}\\end{align}. And our $\\tau_r$ will be 5 ms.\n"
      ]
    },
    {
      "cell_type": "markdown",
      "metadata": {
        "id": "kNg9KesftBr6"
      },
      "source": [
        "If we plot $\\frac{dv}{dt}$ vs $v$ for this system, we get:"
      ]
    },
    {
      "cell_type": "code",
      "metadata": {
        "colab": {
          "base_uri": "https://localhost:8080/",
          "height": 296
        },
        "id": "9S37H7zmtHrD",
        "outputId": "1596c333-3467-4c5c-f54e-3fdb609886de"
      },
      "source": [
        "input = np.dot(w, u)\n",
        "F_input = 1 / (1 + np.exp(-input))\n",
        "\n",
        "v = np.arange(0, 1, .1)\n",
        "dv_dt = (-v + F_input)/tau\n",
        "\n",
        "fig, ax = plt.subplots(1, 1)\n",
        "ax.plot(v, dv_dt)\n",
        "ax.plot([0, 1], [0, 0],'k')\n",
        "ax.set(xlabel = 'v', ylabel = 'dv_dt')"
      ],
      "execution_count": 23,
      "outputs": [
        {
          "output_type": "execute_result",
          "data": {
            "text/plain": [
              "[Text(0, 0.5, 'dv_dt'), Text(0.5, 0, 'v')]"
            ]
          },
          "metadata": {},
          "execution_count": 23
        },
        {
          "output_type": "display_data",
          "data": {
            "image/png": "[encoded data removed]",
            "text/plain": [
              "<Figure size 432x288 with 1 Axes>"
            ]
          },
          "metadata": {
            "needs_background": "light"
          }
        }
      ]
    },
    {
      "cell_type": "markdown",
      "metadata": {
        "id": "M_p_qniItbzz"
      },
      "source": [
        "**Stop and think!** What is the steady state output firing rate of our system? Is this a stable or unstable fixed point?\n",
        "\n",
        "The derivative of v with respect to t equals 0 at around v = 0.61 (the blue line crosses the black line there). This is a stable fixed point: values of $v$ higher than 0.61 have a negative derivative so would be drawn down, back to that fixed point. Values of $v$ smaller than 0.61 have positive derivatives so would be drawn up, back to the fixed point."
      ]
    },
    {
      "cell_type": "markdown",
      "metadata": {
        "id": "c5h8d-wLt5q7"
      },
      "source": [
        "\n",
        "Let's simulate our system using Euler's method! We will assume the output neural firing rate starts at 0."
      ]
    },
    {
      "cell_type": "code",
      "metadata": {
        "colab": {
          "base_uri": "https://localhost:8080/",
          "height": 296
        },
        "id": "dFckLaNmrYkp",
        "outputId": "39f3780d-677f-492a-f95e-5771040ec8f4"
      },
      "source": [
        "# Set length of time we will simulate for (ms)\n",
        "T = 100\n",
        "\n",
        "# Set Euler step size (ms)\n",
        "dt = 1\n",
        "\n",
        "# Compute number of steps we will take\n",
        "n_steps = int(T / dt)\n",
        "\n",
        "# Set input and weight vectors\n",
        "u = np.array([1, 3])\n",
        "w = np.array([.2, .1])\n",
        "tau = 5\n",
        "\n",
        "# Initialize firing rate of output neuron array\n",
        "v = np.zeros((n_steps,))\n",
        "for step in range(n_steps - 1):\n",
        "\n",
        "  # Compute derivative\n",
        "  input = np.dot(w, u)\n",
        "  F_input = 1 / (1 + np.exp(-input))\n",
        "  dv_dt = (-v[step] +  F_input) / tau\n",
        "\n",
        "  # Update v\n",
        "  v[step + 1]  = v[step] + dv_dt * dt\n",
        "\n",
        "fig, ax = plt.subplots(1, 1)\n",
        "ax.plot(np.arange(0, T, dt), v)\n",
        "ax.set(xlabel = 'Time (ms)', ylabel = 'Output firing rate (Hz)')"
      ],
      "execution_count": 18,
      "outputs": [
        {
          "output_type": "execute_result",
          "data": {
            "text/plain": [
              "[Text(0, 0.5, 'Output firing rate (Hz)'), Text(0.5, 0, 'Time (ms)')]"
            ]
          },
          "metadata": {},
          "execution_count": 18
        },
        {
          "output_type": "display_data",
          "data": {
            "image/png": "[encoded data removed]",
            "text/plain": [
              "<Figure size 432x288 with 1 Axes>"
            ]
          },
          "metadata": {
            "needs_background": "light"
          }
        }
      ]
    },
    {
      "cell_type": "markdown",
      "metadata": {
        "id": "UZ8bwr8pkbsi"
      },
      "source": [
        "## Section 1.3: Feedforward vs recurrent networks\n",
        "\n",
        "<img src=\"https://raw.githubusercontent.com/ebatty/IntroCompNeuro/main/images/ch7fig3.png\" width = \"500\">"
      ]
    },
    {
      "cell_type": "markdown",
      "metadata": {
        "id": "XSAI9MZ9p7QQ"
      },
      "source": [
        "## Section 1.3.1: Feedforward networks\n",
        "\n",
        "Let's extend our model from Section 1.2 to now have multiple output neurons. We can summarize their firing rates in a vector $\\bar{v}$.\n",
        "\n",
        "We now have a weight matrix instead of a weight vector, because we have multiple output neurons. The rows of $W$ are just the weight vectors for each output neuron. So the entry at row i, column j of $W$ is the weight from input neuron j to output neuron i.\n",
        "\n",
        " and we need to look at the evolution of the whole vector. We can write our new equation as:\n",
        "\\begin{align}\n",
        "\\tau_r\\frac{d\\bar{v}}{dt} = -\\bar{v} + F(W\\bar{u})\n",
        "\\end{align}\n",
        "\n",
        "If you think through the matrix-vector multiplication, you will see this works out like our single output neuron case, we just are summarizing N different output neurons using vectors and matrices.\n",
        "\n",
        "This model is shown in A in the figure above."
      ]
    },
    {
      "cell_type": "markdown",
      "metadata": {
        "id": "Wv4LQWN0uq4X"
      },
      "source": [
        "## Section 1.3.2: Recurrent neural networks\n",
        "\n",
        "We may want to extend our model to account for interactions between the neurons in our output layer. We can introduce a new matrix $M$, which captures the synaptic weights between output neurons. Now each output neuron is driven by a weighted sum of the input neuron firing rates (the weights given by the relevant row of W) and the weighted sum of the output neuron firing rates (the weights given by the relevant row of M). Our equation becomes:\n",
        "\n",
        "\\begin{align}\n",
        "\\tau_r\\frac{d\\bar{v}}{dt} = -\\bar{v} + F(W\\bar{u} + M\\bar{v})\n",
        "\\end{align}\n",
        "\n",
        "This model is shown in B in the figure above."
      ]
    },
    {
      "cell_type": "markdown",
      "metadata": {
        "id": "-2-CrJCnkBQA"
      },
      "source": [
        "# Section 2: Diving into recurrent neural networks\n",
        "\n",
        "We have our equation for our recurrent neural network evolution, given by:\n",
        "\n",
        "\n",
        "\\begin{align}\n",
        "\\tau\\frac{d\\bar{v}}{dt} = -\\bar{v} + F(W\\bar{u} + M\\bar{v})\n",
        "\\end{align}\n",
        "\n",
        "where:\n",
        "\n",
        "\\begin{align}\n",
        "\\bar{v}&= \\text{ vector of output neuron firing rates}\\\\\n",
        "\\bar{u}&= \\text{ vector of input neuron firing rates}\\\\\n",
        "W &= \\text{input weight matrix from input neurons to output neurons}\\\\\n",
        "M &= \\text{recurrent weight matrix between output neurons}\\\\\n",
        "\\tau &= \\text{time constant governing speed of changes in output firing rates in response to inputs}\\\\\n",
        "F &= \\text{some function}\n",
        "\\end{align}\n",
        "\n",
        "We will sometimes simplify the equation to:\n",
        "\\begin{align}\n",
        "\\tau\\frac{d\\bar{v}}{dt} = -\\bar{v} + F(\\bar{h} + M\\bar{v})\n",
        "\\end{align}\n",
        "\n",
        "where:\n",
        "\\begin{align}\n",
        "\\bar{h}&= W\\bar{u}= \\text{ vector of total input from input neurons to each output neuron}\\\\\n",
        "\\end{align}\n",
        "\n",
        "We will also often work with **linear recurrent neural networks** where $F(x) = x$:\n",
        "\n",
        "\\begin{align}\n",
        "\\tau\\frac{d\\bar{v}}{dt} = -\\bar{v} + \\bar{h} + M\\bar{v}\n",
        "\\end{align}"
      ]
    },
    {
      "cell_type": "markdown",
      "metadata": {
        "id": "MlTH-nOEv-zi"
      },
      "source": [
        "## Section 2.1: Simulating our network\n",
        "\n",
        "Let's simulate a linear recurrent neural network with 50 output neurons and 20 input neurons. We will assume for now the input neural firing rates are constant over time."
      ]
    },
    {
      "cell_type": "markdown",
      "metadata": {
        "id": "Pd61S4SCwqIt"
      },
      "source": [
        "**Stop and think!** What size should matrix M be? Matrix W?\n",
        "\n",
        "The matrix W should be 50 x 20, since we have 50 output neurons and 20 input neurons. The matrix M should be 50 x 50."
      ]
    },
    {
      "cell_type": "code",
      "metadata": {
        "colab": {
          "base_uri": "https://localhost:8080/",
          "height": 298
        },
        "id": "rmLb10o-kCY2",
        "outputId": "7833d01a-cea5-4acc-bb3f-41b35307bafe"
      },
      "source": [
        "# Set length of time we will simulate for (ms)\n",
        "T = 1000\n",
        "\n",
        "# Set Euler step size (ms)\n",
        "dt = 1\n",
        "\n",
        "# Compute number of steps we will take\n",
        "n_steps = int(T / dt)\n",
        "\n",
        "# Set input and weight matrices\n",
        "u = np.random.randint(0, 10, size = (20,))\n",
        "\n",
        "W = np.random.randn(50, 20)\n",
        "\n",
        "x = np.random.randn(50, 50)\n",
        "U, _, _ = np.linalg.svd(x, full_matrices=True)\n",
        "M = .8* U\n",
        "\n",
        "tau = 5\n",
        "\n",
        "# Initialize firing rate of output neuron array\n",
        "v = np.zeros((n_steps, 50))\n",
        "for step in range(n_steps - 1):\n",
        "\n",
        "  # Compute derivative \n",
        "  h = W @ u\n",
        "  dv_dt = (-v[step] +  h + M @ v[step] ) / tau\n",
        "\n",
        "  # Update v\n",
        "  v[step + 1]  = v[step] + dv_dt * dt\n",
        "\n",
        "fig, ax = plt.subplots(1, 1)\n",
        "ax.plot(np.arange(0, T, dt), v)\n",
        "ax.set(xlabel = 'Time (ms)', ylabel = 'Output firing rate (Hz)')"
      ],
      "execution_count": 32,
      "outputs": [
        {
          "output_type": "execute_result",
          "data": {
            "text/plain": [
              "[Text(0, 0.5, 'Output firing rate (Hz)'), Text(0.5, 0, 'Time (ms)')]"
            ]
          },
          "metadata": {},
          "execution_count": 32
        },
        {
          "output_type": "display_data",
          "data": {
            "image/png": "[encoded data removed]",
            "text/plain": [
              "<Figure size 432x288 with 1 Axes>"
            ]
          },
          "metadata": {
            "needs_background": "light"
          }
        }
      ]
    },
    {
      "cell_type": "markdown",
      "metadata": {
        "id": "BZGjRJQzyTm_"
      },
      "source": [
        "Let's look at another simulation, with a different recurrent weight matrix."
      ]
    },
    {
      "cell_type": "code",
      "metadata": {
        "colab": {
          "base_uri": "https://localhost:8080/",
          "height": 307
        },
        "id": "WWYmQRwPxFXN",
        "outputId": "7028a4e6-4270-4659-ae51-f543935523f2"
      },
      "source": [
        "x = np.random.randn(50, 50)\n",
        "U, _, _ = np.linalg.svd(x, full_matrices=True)\n",
        "M = 1.1 * U\n",
        "\n",
        "tau = 5\n",
        "\n",
        "# Initialize firing rate of output neuron array\n",
        "v = np.zeros((n_steps, 50))\n",
        "for step in range(n_steps - 1):\n",
        "\n",
        "  # Compute derivative \n",
        "  h = W @ u\n",
        "  dv_dt = (-v[step] +  h + M @ v[step] ) / tau\n",
        "\n",
        "  # Update v\n",
        "  v[step + 1]  = v[step] + dv_dt * dt\n",
        "\n",
        "fig, ax = plt.subplots(1, 1)\n",
        "ax.plot(np.arange(0, T, dt), v)\n",
        "ax.set(xlabel = 'Time (ms)', ylabel = 'Output firing rate (Hz)')"
      ],
      "execution_count": 39,
      "outputs": [
        {
          "output_type": "execute_result",
          "data": {
            "text/plain": [
              "[Text(0, 0.5, 'Output firing rate (Hz)'), Text(0.5, 0, 'Time (ms)')]"
            ]
          },
          "metadata": {},
          "execution_count": 39
        },
        {
          "output_type": "display_data",
          "data": {
            "image/png": "[encoded data removed]",
            "text/plain": [
              "<Figure size 432x288 with 1 Axes>"
            ]
          },
          "metadata": {
            "needs_background": "light"
          }
        }
      ]
    },
    {
      "cell_type": "markdown",
      "metadata": {
        "id": "v61OqWSSyZbI"
      },
      "source": [
        "With this weight matrix, the output firing rates explode to positive and negative infinity. We need a way to start to analyze the behavior of this system, ideally without just simulations. Luckily, we can use dynamical systems analyses techniques to start to understand and analyze our recurrent neural networks!"
      ]
    },
    {
      "cell_type": "markdown",
      "metadata": {
        "id": "r1ddAfWwyspr"
      },
      "source": [
        "## Section 2.2: Eigenstuff\n",
        "\n"
      ]
    },
    {
      "cell_type": "markdown",
      "metadata": {
        "id": "P0Frdz-YznpU"
      },
      "source": [
        "### Section 2.2.1: Changing to eigenbasis\n",
        "\n",
        "\n",
        "We will also assume that our matrix $M$ is symmetric (the weight from neuron 1 to neuron 5 is equal to the weight from neuron 5 to neuron 1). Note this is a big assumption - we would not expect matched reciprocal connections like this in the brain. If our matrix is symmetric, it has \n",
        "This means that matrix $M$ has $N$ orthogonal eigenvectors, $\\bar{e}_1, \\bar{e}_2, ..., \\bar{e}_N$, with distinct eigenvalues, $\\lambda_1, \\lambda_2, ..., \\lambda_N$. Remember that the definition of an eigenvector of a matrix is that it is a vector that when multiplied by the matrix transforms to a scalar multiple of itself:\n",
        "\n",
        "$$M\\bar{e}_i = \\lambda_i\\bar{e}_i $$\n",
        "\n",
        "Because the eigenvectors are orthogonal, the dot product of different eigenvectors is 0:\n",
        "$\\bar{e}_j\\cdot\\bar{e}_i = 0$ if j does not equal i. We will assume we have normalized the eigenvectors so that $\\bar{e}_j\\cdot\\bar{e}_j = 1$\n",
        "\n",
        "We can analyze our linear recurrent system nicely using the eigenvalues and eigenvectors of matrix $M$. Because we have N orthogonal eigenvectors, these form a basis for N dimensional space. This means that we can change bases to this eigenbasis. Instead of writing the coordinates of a point with respect to the standard basis (the x/y/z axes), we can write the point with respect to the eigenvectors. Review vector bases and changes of bases if confused: https://ebatty.github.io/IntroCompNeuro/lectures/MathReview.html.\n",
        "\n",
        "We can write any N-dimensional vector in terms of the coordinates with respect to the eigenvectors, including the firing rate vector:\n",
        "\n",
        "$$\\bar{v}(t) = \\sum_{i=1}^N c_i(t)\\bar{e}_i$$\n",
        "\n",
        "So we are writing the vector of firing rates as a linear combination of the eigenvectors of M with some scalar weightings $c_i$."
      ]
    },
    {
      "cell_type": "markdown",
      "metadata": {
        "id": "k2a7av9uzr7j"
      },
      "source": [
        "### Section 2.2.2: Looking at evolution of eigenvector coordinates over time\n",
        "\n",
        "Instead of looking at the evolution of our output firing rates over time, we can now look at the evolution of evolution of our $c_i$'s over time. At a given time, we can reconstruct the output firing rate vector with our equation:\n",
        "\n",
        "$$\\bar{v}(t) = \\sum_{i=1}^N c_i(t)\\bar{e}_i$$\n",
        "\n",
        "We can derive a differential equation for each $c_j$ and find that:\n",
        "\n",
        "\n",
        "\\begin{align}\n",
        "\\tau \\frac{d{c_i(t)}}{dt} &= - c_i(t)(1 - \\lambda_i) + \\bar{h}  \\cdot \\bar{e}_i\n",
        "\\end{align}\n",
        "\n",
        "**Derivation of above equation**: \n",
        "You do not need to understand this derivation - it is here if you wish to.\n",
        "\n",
        "Let's substitute this formula for $v(t)$ into our equation for our network:\n",
        "\\begin{align}\n",
        "\\tau \\frac{d{v}}{dt} &= -\\bar{v} + \\bar{h} + M\\bar{v}\\\\\n",
        "\\tau \\frac{d{\\sum_{i=1}^N c_i(t)\\bar{e}_i}}{dt} &= -\\sum_{i=1}^N c_i(t)\\bar{e}_i + \\bar{h} + M\\sum_{i=1}^N c_i(t)\\bar{e}_i\n",
        "\\end{align}\n",
        "We can change where the sum occurs in the left-hand side of the equation (because the derivative of summed entries is the sum of their derivatives):\n",
        "$$\\frac{d{\\sum_{i=1}^N c_i(t)\\bar{e}_i}}{dt} = \\sum_{i=1}^N [\\frac{d{c_i(t)}}{dt}\\bar{e}_i]$$\n",
        "and rearrange the right-hand side:\n",
        "\\begin{align}\n",
        "\\tau \\sum_{i=1}^N [\\frac{d{c_i(t)}}{dt}\\bar{e}_i] &= -\\sum_{i=1}^N c_i(t) [(\\bar{e}_i - M\\bar{e}_i)] + \\bar{h}\\\\\n",
        "&= -\\sum_{i=1}^N [c_i(t)(\\bar{e}_i - \\lambda_i\\bar{e}_i)] + \\bar{h}\n",
        "\\end{align}\n",
        "In the last step, we used the fact that $\\bar{e}$s are eigenvectors.\n",
        "We can now get rid of the sum by taking the dot product of both sides with $\\bar{e}_j$. Let's take the left-hand side first\n",
        "\\begin{align}\n",
        "\\tau \\sum_{i=1}^N [\\frac{d{c_i(t)}}{dt}\\bar{e}_i] \\cdot \\bar{e_j}\n",
        "&= \\tau \\sum_{i=1}^N [\\frac{d{c_i(t)}}{dt}\\bar{e}_i\\cdot\\bar{e_j}]\\\\\n",
        "&= \\tau \\frac{d{c_j(t)}}{dt}\n",
        "\\end{align}\n",
        "For the last step, remember that the eigenvectors are orthogonal and unit vectors so that the dot product of different eigenvectors is 0 and the dot product of the eigenvector with itself is 1. So the only entry of the sum that won't be zero is when j is equal to i.\n",
        "\n",
        "Now let's look at the right-hand side:\n",
        "\\begin{align}\n",
        "(-\\sum_{i=1}^N [c_i(t)(\\bar{e}_i - \\lambda_i\\bar{e}_i)] + \\bar{h})\\cdot\\bar{e}_j &= \\sum_{i=1}^N [c_i(t)(\\bar{e}_i - \\lambda_i\\bar{e}_i) \\cdot \\bar{e}_j] + \\bar{h}  \\cdot \\bar{e}_j\\\\\n",
        "&= -\\sum_{i=1}^N [c_i(t)(\\bar{e}_i\\cdot \\bar{e}_j - \\lambda_i\\bar{e}_i \\cdot \\bar{e}_j)] + \\bar{h}  \\cdot \\bar{e}_j\\\\\n",
        "&= - c_j(t)(1 - \\lambda_j) + \\bar{h}  \\cdot \\bar{e}_j\\\\\n",
        "\\end{align}\n",
        "Now let's put them back together to get our differential equations for the $c_i$'s:\n",
        "\\begin{align}\n",
        "\\tau \\frac{d{c_j(t)}}{dt} &= - c_j(t)(1 - \\lambda_j) + \\bar{h}  \\cdot \\bar{e}_j\n",
        "\\end{align}\n"
      ]
    },
    {
      "cell_type": "markdown",
      "metadata": {
        "id": "Nl1ihuYi0z5r"
      },
      "source": [
        "**Simulation**\n",
        "\n",
        "Let's look at a simple simulation to prove to ourselves that we can look at the evolution of the coordinate values, $c_i$'s over time and reconstruct the firing rate. We will assume we have two input neurons and two output neurons. In the first cell below, we simulate our network as we have been doing using euler's method for $\\frac{dv}{dt}$."
      ]
    },
    {
      "cell_type": "code",
      "metadata": {
        "colab": {
          "base_uri": "https://localhost:8080/",
          "height": 296
        },
        "id": "w-FEh5iayYpB",
        "outputId": "16ec4236-5322-41bd-c253-7924ec192014"
      },
      "source": [
        "# Set length of time we will simulate for (ms)\n",
        "T = 1000\n",
        "\n",
        "# Set Euler step size (ms)\n",
        "dt = 1\n",
        "\n",
        "# Compute number of steps we will take\n",
        "n_steps = int(T / dt)\n",
        "\n",
        "# Set input and weight matrices\n",
        "u = np.array([2, 4])\n",
        "W = np.random.randn(2, 2)\n",
        "\n",
        "M = np.array([[.1, .2], [.2, .3]])\n",
        "\n",
        "tau = 5\n",
        "\n",
        "# Initialize firing rate of output neuron array\n",
        "v = np.zeros((n_steps, 2))\n",
        "for step in range(n_steps - 1):\n",
        "\n",
        "  # Compute derivative \n",
        "  h = W @ u\n",
        "  dv_dt = (-v[step] +  h + M @ v[step] ) / tau\n",
        "\n",
        "  # Update v\n",
        "  v[step + 1]  = v[step] + dv_dt * dt\n",
        "\n",
        "fig, ax = plt.subplots(1, 1)\n",
        "ax.plot(np.arange(0, T, dt), v)\n",
        "ax.set(xlabel = 'Time (ms)', ylabel = 'Output firing rate (Hz)')"
      ],
      "execution_count": 42,
      "outputs": [
        {
          "output_type": "execute_result",
          "data": {
            "text/plain": [
              "[Text(0, 0.5, 'Output firing rate (Hz)'), Text(0.5, 0, 'Time (ms)')]"
            ]
          },
          "metadata": {},
          "execution_count": 42
        },
        {
          "output_type": "display_data",
          "data": {
            "image/png": "[encoded data removed]",
            "text/plain": [
              "<Figure size 432x288 with 1 Axes>"
            ]
          },
          "metadata": {
            "needs_background": "light"
          }
        }
      ]
    },
    {
      "cell_type": "markdown",
      "metadata": {
        "id": "UO2XTCco1T9X"
      },
      "source": [
        "Now, we will take an alternate approach and approximate the evolution of $c_1$ and $c_2$ according to our equations, then reconstruct the firing rates. The initial values of the output firing rates are 0, so $c_1$ and $c_2$ are initially 0."
      ]
    },
    {
      "cell_type": "code",
      "metadata": {
        "colab": {
          "base_uri": "https://localhost:8080/",
          "height": 296
        },
        "id": "P3TcsH9x1OsH",
        "outputId": "336ee54d-c0dc-4ed1-e0ca-f23e9037e247"
      },
      "source": [
        "# Find eigvals, eigvecs of M\n",
        "eigvals, eigvecs = np.linalg.eig(M)\n",
        "\n",
        "# Initialize cs\n",
        "c1 = np.zeros((n_steps,))\n",
        "c2 = np.zeros((n_steps,))\n",
        "for step in range(n_steps - 1):\n",
        "\n",
        "  # Compute derivative \n",
        "  h = W @ u\n",
        "  dc1_dt = (-c1[step]*(1-eigvals[0]) +  np.dot(h, eigvecs[:, 0]) ) / tau\n",
        "  dc2_dt = (-c2[step]*(1-eigvals[1]) +  np.dot(h, eigvecs[:, 1]) ) / tau\n",
        "\n",
        "  # Update c\n",
        "  c1[step + 1]  = c1[step] + dc1_dt * dt\n",
        "  c2[step + 1]  = c2[step] + dc2_dt * dt\n",
        "\n",
        "# Compute v\n",
        "v = np.zeros((n_steps, 2))\n",
        "for step in range(n_steps ):\n",
        "  v[step] = c1[step]*eigvecs[:, 0] + c2[step]*eigvecs[:, 1]\n",
        "\n",
        "fig, axes = plt.subplots(2, 1)\n",
        "axes[0].plot(np.arange(0, T, dt), c1, 'b', label = 'c1')\n",
        "axes[0].plot(np.arange(0, T, dt), c2, 'g', label = 'c2')\n",
        "axes[0].legend()\n",
        "\n",
        "axes[1].plot(np.arange(0, T, dt), v)\n",
        "axes[1].legend(['v1', 'v2'])\n",
        "\n",
        "axes[0].set(xlabel = 'Time (ms)', ylabel = 'c value')\n",
        "axes[1].set(xlabel = 'Time (ms)', ylabel = 'Output firing rate (Hz)')"
      ],
      "execution_count": 54,
      "outputs": [
        {
          "output_type": "execute_result",
          "data": {
            "text/plain": [
              "[Text(0, 0.5, 'Output firing rate (Hz)'), Text(0.5, 0, 'Time (ms)')]"
            ]
          },
          "metadata": {},
          "execution_count": 54
        },
        {
          "output_type": "display_data",
          "data": {
            "image/png": "[encoded data removed]",
            "text/plain": [
              "<Figure size 432x288 with 2 Axes>"
            ]
          },
          "metadata": {
            "needs_background": "light"
          }
        }
      ]
    },
    {
      "cell_type": "markdown",
      "metadata": {
        "id": "RFq4zliM2r0r"
      },
      "source": [
        "You can see that we find the exact same output firing rates over time using this method."
      ]
    },
    {
      "cell_type": "markdown",
      "metadata": {
        "id": "xrbrVF9M4P_t"
      },
      "source": [
        "### Section 2.2.3: Analyzing analytical solutions of c's\n",
        "\n",
        "**If any of the eigenvalues of matrix M are over 1, the output firing rates will blow up to positive or negative infinity - the network will explode. If all of the eigenvalues are under 1, the output firing rates will converge to some steady state values.**\n",
        "\n",
        "Let's prove this.\n",
        "\n",
        "If the input neuron firing rates are constant, so $\\bar{h} = W\\bar{u}$ is constant over time, we can find an analytical solution for the evolution of firing rate vector coordinates with respect to the eigenvectors, $c_i$'s.\n",
        "\n",
        "We will not cover the derivation of this analytical solution as it involve tough integrals, but will just give you the equation:\n",
        "\n",
        "\\begin{align}\n",
        "c_i(t) = \\frac{\\bar{h}\\cdot\\bar{e_i}}{1-\\lambda_i}(1-exp(-\\frac{t(1-\\lambda_i)}{\\tau})) + c_i(0)exp(-\\frac{t(1-\\lambda_i)}{\\tau})\n",
        "\\end{align}\n"
      ]
    },
    {
      "cell_type": "markdown",
      "metadata": {
        "id": "OodU9nvt5oJd"
      },
      "source": [
        "If $\\lambda_1$ is 0.8, what will happen to $c_1$ over time?\n",
        "\n",
        "\\begin{align}\n",
        "exp(-\\frac{t(1-\\lambda_i)}{\\tau}) &= exp(-\\frac{t(.2)}{\\tau})\n",
        "\\end{align}\n",
        "\n",
        "If we plot this, we see it goes to 0 at large values of t."
      ]
    },
    {
      "cell_type": "code",
      "metadata": {
        "colab": {
          "base_uri": "https://localhost:8080/",
          "height": 282
        },
        "id": "YELqZjv_2UVU",
        "outputId": "00e3b821-56fa-459d-c42e-512ce5819913"
      },
      "source": [
        "t_vec = np.arange(0, 500)\n",
        "plt.plot(t_vec, np.exp(-.2*t_vec/tau))"
      ],
      "execution_count": 57,
      "outputs": [
        {
          "output_type": "execute_result",
          "data": {
            "text/plain": [
              "[<matplotlib.lines.Line2D at 0x7f5b1e4a01d0>]"
            ]
          },
          "metadata": {},
          "execution_count": 57
        },
        {
          "output_type": "display_data",
          "data": {
            "image/png": "[encoded data removed]",
            "text/plain": [
              "<Figure size 432x288 with 1 Axes>"
            ]
          },
          "metadata": {
            "needs_background": "light"
          }
        }
      ]
    },
    {
      "cell_type": "markdown",
      "metadata": {
        "id": "Q-8Yppog5-x-"
      },
      "source": [
        "So at large values of t, this term will equal 0 and we will get:\n",
        "\n",
        "\\begin{align}\n",
        "c_1(t) &= \\frac{\\bar{h}\\cdot\\bar{e_1}}{1-\\lambda_1}(1-exp(-\\frac{t(1-\\lambda_1)}{\\tau})) + c_1(0)exp(-\\frac{t(1-\\lambda_1)}{\\tau})\\\\\n",
        "&= \\frac{\\bar{h}\\cdot\\bar{e_1}}{1-\\lambda_1}(1-0) + c_1(0)*0)\\\\\n",
        "&=\\frac{\\bar{h}\\cdot\\bar{e_1}}{1-\\lambda_1}\\\\\n",
        "\\end{align}\n",
        "\n",
        "The value of c will decay to a fixed point $\\frac{\\bar{h}\\cdot\\bar{e_1}}{1-\\lambda_1}$\n"
      ]
    },
    {
      "cell_type": "markdown",
      "metadata": {
        "id": "l0l4METd6lMm"
      },
      "source": [
        "If $\\lambda_1$ is 1.2, what will happen to $c_1$ over time?\n",
        "\n",
        "\n",
        "\\begin{align}\n",
        "exp(-\\frac{t(1-\\lambda_i)}{\\tau}) &= exp(-\\frac{t(-.2)}{\\tau})\n",
        "\\end{align}\n",
        "\n",
        "If we plot this, we see it goes to infinity at large values of t."
      ]
    },
    {
      "cell_type": "code",
      "metadata": {
        "colab": {
          "base_uri": "https://localhost:8080/",
          "height": 293
        },
        "id": "n7EG9YxO58v4",
        "outputId": "527cbb60-186f-462c-bb0e-1ebe2f98e8ee"
      },
      "source": [
        "t_vec = np.arange(0, 500)\n",
        "plt.plot(t_vec, np.exp(.2*t_vec/tau))"
      ],
      "execution_count": 58,
      "outputs": [
        {
          "output_type": "execute_result",
          "data": {
            "text/plain": [
              "[<matplotlib.lines.Line2D at 0x7f5b1de763d0>]"
            ]
          },
          "metadata": {},
          "execution_count": 58
        },
        {
          "output_type": "display_data",
          "data": {
            "image/png": "[encoded data removed]",
            "text/plain": [
              "<Figure size 432x288 with 1 Axes>"
            ]
          },
          "metadata": {
            "needs_background": "light"
          }
        }
      ]
    },
    {
      "cell_type": "markdown",
      "metadata": {
        "id": "W4H_BTFK6w9q"
      },
      "source": [
        "So $c_1$ will blow up to positive or negative infinity. If one of the c's blows up, $\\bar{v}(t)$ will too."
      ]
    },
    {
      "cell_type": "markdown",
      "metadata": {
        "id": "DVSXNt7k67gl"
      },
      "source": [
        "**If any of the eigenvalues of matrix M are over 1, the output firing rates will blow up to positive or negative infinity - the network will explode. If all of the eigenvalues are under 1, the output firing rates will converge to some steady state values.**"
      ]
    },
    {
      "cell_type": "markdown",
      "metadata": {
        "id": "NU6RDzla2xbj"
      },
      "source": [
        "**Stop and think!** What is the formula for the steady state value of $\\bar{v}$ using the eigenbasis? Assume the input neuron firing rates do not change over time and all eigenvalues are under 1."
      ]
    },
    {
      "cell_type": "markdown",
      "metadata": {
        "id": "vASWy_Yi3_NS"
      },
      "source": [
        "\n",
        "\n",
        "\\begin{align}\n",
        "\\bar{v}(t) &= \\sum_{i=1}^N c_i(t)\\bar{e}_i\\\\\n",
        "\\tau \\frac{d{c_i(t)}}{dt} &= - c_i(t)(1 - \\lambda_i) + \\bar{h}  \\cdot \\bar{e}_i\n",
        "\\end{align}\n",
        "\n",
        "We can find the steady state value of $\\bar{v}$ by finding the values of $c_i$'s when their derivatives are equal to 0.\n",
        "\n",
        "\\begin{align}\n",
        "\\tau \\frac{d{c_j(t)}}{dt} &= - c_j(t)(1 - \\lambda_j) + \\bar{h}  \\cdot \\bar{e}_j = 0\\\\\n",
        "c_j(t) = \\frac{\\bar{h}\\cdot\\bar{e}_j}{1-\\lambda_j}\n",
        "\\end{align}\n",
        "\n",
        "We can then subsitute into our equation for $\\bar{v}$:\n",
        "\n",
        "\\begin{align}\n",
        "\\bar{v}_{SS} &= \\sum_{i=1}^N c_i(t)\\bar{e}_i\\\\\n",
        "&= \\sum_{i=1}^N \\frac{\\bar{h}\\cdot\\bar{e}_i}{1-\\lambda_i}\\bar{e}_i\n",
        "\\end{align}\n"
      ]
    },
    {
      "cell_type": "markdown",
      "metadata": {
        "id": "1_6PCFdB7ZUN"
      },
      "source": [
        "### Section 2.2.4: Connection to general understanding of first order differential equations\n",
        "\n",
        "Let's rearrange slightly our equation for our linear recurrent neural network:\n",
        "\n",
        "\\begin{align}\n",
        "\\tau\\frac{d\\bar{v}}{dt} &= -\\bar{v} + \\bar{h} + M\\bar{v}\\\\\n",
        "\\frac{d\\bar{v}}{dt} &= \\frac{(M - 1)\\bar{v} + \\bar{h}}{\\tau}\\\\\n",
        "\\end{align}\n",
        "\n",
        "Let's say we have no input so $\\bar{h} = \\bar{0}$\n",
        "\n",
        "\\begin{align}\n",
        "\\frac{d\\bar{v}}{dt} &= \\frac{(M - 1)}{\\tau}\\bar{v}\\\\\n",
        "\\end{align}\n",
        "\n",
        "This resembles our simple first order system of differential equations from section 2.4.1 here: https://ebatty.github.io/IntroCompNeuro/lectures/MathReview.html.\n",
        "\n",
        "In particular, \n",
        "\n",
        "\\begin{align}\n",
        "\\frac{d\\bar{v}}{dt} = A\\bar{v}\n",
        "\\end{align}\n",
        "\n",
        "where \n",
        "\\begin{align}\n",
        "A = \\frac{(M-1)}{\\tau}\n",
        "\\end{align}\n",
        "\n",
        "The eigenvalues of A are the same as the eigenvalues of M but minus 1. So what we have found syncs with our gif:\n"
      ]
    },
    {
      "cell_type": "code",
      "metadata": {
        "colab": {
          "base_uri": "https://localhost:8080/",
          "height": 395
        },
        "cellView": "form",
        "id": "EUGrIZ827VC-",
        "outputId": "525a633f-7d3e-4ae4-9fa7-6547cdc69935"
      },
      "source": [
        "#@markdown Execute this cell to view dynamical systems gif\n",
        "\n",
        "from IPython.display import Image\n",
        "\n",
        "Image(url = 'https://github.com/ebatty/MathToolsforNeuroscience/blob/master/dynsysdemo.gif?raw=True', width=700)"
      ],
      "execution_count": 60,
      "outputs": [
        {
          "output_type": "execute_result",
          "data": {
            "text/html": [
              "<img src=\"https://github.com/ebatty/MathToolsforNeuroscience/blob/master/dynsysdemo.gif?raw=True\" width=\"700\"/>"
            ],
            "text/plain": [
              "<IPython.core.display.Image object>"
            ]
          },
          "metadata": {},
          "execution_count": 60
        }
      ]
    },
    {
      "cell_type": "markdown",
      "metadata": {
        "id": "SKRpzp348iez"
      },
      "source": [
        "Eigenvalues of M over 1 are equivalent to eigenvalues of A over 0 and so lead to our system blowing up. All eigenvalues of M under 1 are equivalent to eigenvalues of A under 0 and so lead to our system converging on a fixed point (in the case of zero input, the origin)."
      ]
    }
  ]
}