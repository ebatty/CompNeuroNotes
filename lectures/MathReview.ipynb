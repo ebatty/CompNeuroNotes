{
  "nbformat": 4,
  "nbformat_minor": 0,
  "metadata": {
    "colab": {
      "name": "MathReview.ipynb",
      "provenance": [],
      "collapsed_sections": [],
      "toc_visible": true,
      "authorship_tag": "ABX9TyOTJNxOYaqnYiZXwjl57LM5",
      "include_colab_link": true
    },
    "kernelspec": {
      "name": "python3",
      "display_name": "Python 3"
    },
    "language_info": {
      "name": "python"
    },
    "widgets": {
      "application/vnd.jupyter.widget-state+json": {
        "59a29f8bd32b4b16b55be5e555fefd57": {
          "model_module": "@jupyter-widgets/controls",
          "model_name": "VBoxModel",
          "model_module_version": "1.5.0",
          "state": {
            "_view_name": "VBoxView",
            "_dom_classes": [
              "widget-interact"
            ],
            "_model_name": "VBoxModel",
            "_view_module": "@jupyter-widgets/controls",
            "_model_module_version": "1.5.0",
            "_view_count": null,
            "_view_module_version": "1.5.0",
            "box_style": "",
            "layout": "IPY_MODEL_3aeead9294264c7c9166064e59ba1b0f",
            "_model_module": "@jupyter-widgets/controls",
            "children": [
              "IPY_MODEL_a40e3205eed743adb0504afa4a8dcb2b",
              "IPY_MODEL_bed3d6b9fe5d4c8ba68dd1b476cae225",
              "IPY_MODEL_9f2ba7e22a7d493c9fb8a4464d5642b2"
            ]
          }
        },
        "3aeead9294264c7c9166064e59ba1b0f": {
          "model_module": "@jupyter-widgets/base",
          "model_name": "LayoutModel",
          "model_module_version": "1.2.0",
          "state": {
            "_view_name": "LayoutView",
            "grid_template_rows": null,
            "right": null,
            "justify_content": null,
            "_view_module": "@jupyter-widgets/base",
            "overflow": null,
            "_model_module_version": "1.2.0",
            "_view_count": null,
            "flex_flow": null,
            "width": null,
            "min_width": null,
            "border": null,
            "align_items": null,
            "bottom": null,
            "_model_module": "@jupyter-widgets/base",
            "top": null,
            "grid_column": null,
            "overflow_y": null,
            "overflow_x": null,
            "grid_auto_flow": null,
            "grid_area": null,
            "grid_template_columns": null,
            "flex": null,
            "_model_name": "LayoutModel",
            "justify_items": null,
            "grid_row": null,
            "max_height": null,
            "align_content": null,
            "visibility": null,
            "align_self": null,
            "height": null,
            "min_height": null,
            "padding": null,
            "grid_auto_rows": null,
            "grid_gap": null,
            "max_width": null,
            "order": null,
            "_view_module_version": "1.2.0",
            "grid_template_areas": null,
            "object_position": null,
            "object_fit": null,
            "grid_auto_columns": null,
            "margin": null,
            "display": null,
            "left": null
          }
        },
        "a40e3205eed743adb0504afa4a8dcb2b": {
          "model_module": "@jupyter-widgets/controls",
          "model_name": "FloatSliderModel",
          "model_module_version": "1.5.0",
          "state": {
            "_view_name": "FloatSliderView",
            "style": "IPY_MODEL_ded6371b786442ce97dbf0003eb3b6c2",
            "_dom_classes": [],
            "description": "a",
            "step": 0.1,
            "_model_name": "FloatSliderModel",
            "orientation": "horizontal",
            "max": 2,
            "_view_module": "@jupyter-widgets/controls",
            "_model_module_version": "1.5.0",
            "value": 1,
            "_view_count": null,
            "disabled": false,
            "_view_module_version": "1.5.0",
            "min": -2,
            "continuous_update": true,
            "readout_format": ".2f",
            "description_tooltip": null,
            "readout": true,
            "_model_module": "@jupyter-widgets/controls",
            "layout": "IPY_MODEL_70dc49dc20ed4a2bb13a589ee6be4409"
          }
        },
        "bed3d6b9fe5d4c8ba68dd1b476cae225": {
          "model_module": "@jupyter-widgets/controls",
          "model_name": "FloatSliderModel",
          "model_module_version": "1.5.0",
          "state": {
            "_view_name": "FloatSliderView",
            "style": "IPY_MODEL_52061d865c89493b8fcf92866e5a5f1c",
            "_dom_classes": [],
            "description": "b",
            "step": 0.1,
            "_model_name": "FloatSliderModel",
            "orientation": "horizontal",
            "max": 2,
            "_view_module": "@jupyter-widgets/controls",
            "_model_module_version": "1.5.0",
            "value": -0.2,
            "_view_count": null,
            "disabled": false,
            "_view_module_version": "1.5.0",
            "min": -2,
            "continuous_update": true,
            "readout_format": ".2f",
            "description_tooltip": null,
            "readout": true,
            "_model_module": "@jupyter-widgets/controls",
            "layout": "IPY_MODEL_6ed97094883d44109e1d59c75c089695"
          }
        },
        "9f2ba7e22a7d493c9fb8a4464d5642b2": {
          "model_module": "@jupyter-widgets/output",
          "model_name": "OutputModel",
          "model_module_version": "1.0.0",
          "state": {
            "_view_name": "OutputView",
            "msg_id": "",
            "_dom_classes": [],
            "_model_name": "OutputModel",
            "outputs": [
              {
                "output_type": "display_data",
                "data": {
                  "image/png": "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\n",
                  "text/plain": "<Figure size 720x504 with 1 Axes>"
                },
                "metadata": {
                  "needs_background": "light"
                }
              }
            ],
            "_view_module": "@jupyter-widgets/output",
            "_model_module_version": "1.0.0",
            "_view_count": null,
            "_view_module_version": "1.0.0",
            "layout": "IPY_MODEL_9e94f1f862cb45bd92517ae9a3567da0",
            "_model_module": "@jupyter-widgets/output"
          }
        },
        "ded6371b786442ce97dbf0003eb3b6c2": {
          "model_module": "@jupyter-widgets/controls",
          "model_name": "SliderStyleModel",
          "model_module_version": "1.5.0",
          "state": {
            "_view_name": "StyleView",
            "handle_color": null,
            "_model_name": "SliderStyleModel",
            "description_width": "",
            "_view_module": "@jupyter-widgets/base",
            "_model_module_version": "1.5.0",
            "_view_count": null,
            "_view_module_version": "1.2.0",
            "_model_module": "@jupyter-widgets/controls"
          }
        },
        "70dc49dc20ed4a2bb13a589ee6be4409": {
          "model_module": "@jupyter-widgets/base",
          "model_name": "LayoutModel",
          "model_module_version": "1.2.0",
          "state": {
            "_view_name": "LayoutView",
            "grid_template_rows": null,
            "right": null,
            "justify_content": null,
            "_view_module": "@jupyter-widgets/base",
            "overflow": null,
            "_model_module_version": "1.2.0",
            "_view_count": null,
            "flex_flow": null,
            "width": null,
            "min_width": null,
            "border": null,
            "align_items": null,
            "bottom": null,
            "_model_module": "@jupyter-widgets/base",
            "top": null,
            "grid_column": null,
            "overflow_y": null,
            "overflow_x": null,
            "grid_auto_flow": null,
            "grid_area": null,
            "grid_template_columns": null,
            "flex": null,
            "_model_name": "LayoutModel",
            "justify_items": null,
            "grid_row": null,
            "max_height": null,
            "align_content": null,
            "visibility": null,
            "align_self": null,
            "height": null,
            "min_height": null,
            "padding": null,
            "grid_auto_rows": null,
            "grid_gap": null,
            "max_width": null,
            "order": null,
            "_view_module_version": "1.2.0",
            "grid_template_areas": null,
            "object_position": null,
            "object_fit": null,
            "grid_auto_columns": null,
            "margin": null,
            "display": null,
            "left": null
          }
        },
        "52061d865c89493b8fcf92866e5a5f1c": {
          "model_module": "@jupyter-widgets/controls",
          "model_name": "SliderStyleModel",
          "model_module_version": "1.5.0",
          "state": {
            "_view_name": "StyleView",
            "handle_color": null,
            "_model_name": "SliderStyleModel",
            "description_width": "",
            "_view_module": "@jupyter-widgets/base",
            "_model_module_version": "1.5.0",
            "_view_count": null,
            "_view_module_version": "1.2.0",
            "_model_module": "@jupyter-widgets/controls"
          }
        },
        "6ed97094883d44109e1d59c75c089695": {
          "model_module": "@jupyter-widgets/base",
          "model_name": "LayoutModel",
          "model_module_version": "1.2.0",
          "state": {
            "_view_name": "LayoutView",
            "grid_template_rows": null,
            "right": null,
            "justify_content": null,
            "_view_module": "@jupyter-widgets/base",
            "overflow": null,
            "_model_module_version": "1.2.0",
            "_view_count": null,
            "flex_flow": null,
            "width": null,
            "min_width": null,
            "border": null,
            "align_items": null,
            "bottom": null,
            "_model_module": "@jupyter-widgets/base",
            "top": null,
            "grid_column": null,
            "overflow_y": null,
            "overflow_x": null,
            "grid_auto_flow": null,
            "grid_area": null,
            "grid_template_columns": null,
            "flex": null,
            "_model_name": "LayoutModel",
            "justify_items": null,
            "grid_row": null,
            "max_height": null,
            "align_content": null,
            "visibility": null,
            "align_self": null,
            "height": null,
            "min_height": null,
            "padding": null,
            "grid_auto_rows": null,
            "grid_gap": null,
            "max_width": null,
            "order": null,
            "_view_module_version": "1.2.0",
            "grid_template_areas": null,
            "object_position": null,
            "object_fit": null,
            "grid_auto_columns": null,
            "margin": null,
            "display": null,
            "left": null
          }
        },
        "9e94f1f862cb45bd92517ae9a3567da0": {
          "model_module": "@jupyter-widgets/base",
          "model_name": "LayoutModel",
          "model_module_version": "1.2.0",
          "state": {
            "_view_name": "LayoutView",
            "grid_template_rows": null,
            "right": null,
            "justify_content": null,
            "_view_module": "@jupyter-widgets/base",
            "overflow": null,
            "_model_module_version": "1.2.0",
            "_view_count": null,
            "flex_flow": null,
            "width": null,
            "min_width": null,
            "border": null,
            "align_items": null,
            "bottom": null,
            "_model_module": "@jupyter-widgets/base",
            "top": null,
            "grid_column": null,
            "overflow_y": null,
            "overflow_x": null,
            "grid_auto_flow": null,
            "grid_area": null,
            "grid_template_columns": null,
            "flex": null,
            "_model_name": "LayoutModel",
            "justify_items": null,
            "grid_row": null,
            "max_height": null,
            "align_content": null,
            "visibility": null,
            "align_self": null,
            "height": null,
            "min_height": null,
            "padding": null,
            "grid_auto_rows": null,
            "grid_gap": null,
            "max_width": null,
            "order": null,
            "_view_module_version": "1.2.0",
            "grid_template_areas": null,
            "object_position": null,
            "object_fit": null,
            "grid_auto_columns": null,
            "margin": null,
            "display": null,
            "left": null
          }
        },
        "0c7c52481bb649c19387f1665d3a96dd": {
          "model_module": "@jupyter-widgets/controls",
          "model_name": "VBoxModel",
          "model_module_version": "1.5.0",
          "state": {
            "_view_name": "VBoxView",
            "_dom_classes": [
              "widget-interact"
            ],
            "_model_name": "VBoxModel",
            "_view_module": "@jupyter-widgets/controls",
            "_model_module_version": "1.5.0",
            "_view_count": null,
            "_view_module_version": "1.5.0",
            "box_style": "",
            "layout": "IPY_MODEL_85365681dd7f4f2195416a306365ae93",
            "_model_module": "@jupyter-widgets/controls",
            "children": [
              "IPY_MODEL_bdb9bc1c50d649c691b7c8b4df3ecd6c",
              "IPY_MODEL_781595a085c44eb38a28d9268de2132e",
              "IPY_MODEL_dcc47ef88a2643a1bbf7336657dcbc06"
            ]
          }
        },
        "85365681dd7f4f2195416a306365ae93": {
          "model_module": "@jupyter-widgets/base",
          "model_name": "LayoutModel",
          "model_module_version": "1.2.0",
          "state": {
            "_view_name": "LayoutView",
            "grid_template_rows": null,
            "right": null,
            "justify_content": null,
            "_view_module": "@jupyter-widgets/base",
            "overflow": null,
            "_model_module_version": "1.2.0",
            "_view_count": null,
            "flex_flow": null,
            "width": null,
            "min_width": null,
            "border": null,
            "align_items": null,
            "bottom": null,
            "_model_module": "@jupyter-widgets/base",
            "top": null,
            "grid_column": null,
            "overflow_y": null,
            "overflow_x": null,
            "grid_auto_flow": null,
            "grid_area": null,
            "grid_template_columns": null,
            "flex": null,
            "_model_name": "LayoutModel",
            "justify_items": null,
            "grid_row": null,
            "max_height": null,
            "align_content": null,
            "visibility": null,
            "align_self": null,
            "height": null,
            "min_height": null,
            "padding": null,
            "grid_auto_rows": null,
            "grid_gap": null,
            "max_width": null,
            "order": null,
            "_view_module_version": "1.2.0",
            "grid_template_areas": null,
            "object_position": null,
            "object_fit": null,
            "grid_auto_columns": null,
            "margin": null,
            "display": null,
            "left": null
          }
        },
        "bdb9bc1c50d649c691b7c8b4df3ecd6c": {
          "model_module": "@jupyter-widgets/controls",
          "model_name": "FloatSliderModel",
          "model_module_version": "1.5.0",
          "state": {
            "_view_name": "FloatSliderView",
            "style": "IPY_MODEL_2df855168c4044b5adf1e7984ae12755",
            "_dom_classes": [],
            "description": "a",
            "step": 0.1,
            "_model_name": "FloatSliderModel",
            "orientation": "horizontal",
            "max": 2,
            "_view_module": "@jupyter-widgets/controls",
            "_model_module_version": "1.5.0",
            "value": 1,
            "_view_count": null,
            "disabled": false,
            "_view_module_version": "1.5.0",
            "min": -2,
            "continuous_update": true,
            "readout_format": ".2f",
            "description_tooltip": null,
            "readout": true,
            "_model_module": "@jupyter-widgets/controls",
            "layout": "IPY_MODEL_acafe5d598e942d3896d8e6fc80bed96"
          }
        },
        "781595a085c44eb38a28d9268de2132e": {
          "model_module": "@jupyter-widgets/controls",
          "model_name": "FloatSliderModel",
          "model_module_version": "1.5.0",
          "state": {
            "_view_name": "FloatSliderView",
            "style": "IPY_MODEL_76839286d6344b1a9d8e6264d234ad8c",
            "_dom_classes": [],
            "description": "b",
            "step": 0.1,
            "_model_name": "FloatSliderModel",
            "orientation": "horizontal",
            "max": 2,
            "_view_module": "@jupyter-widgets/controls",
            "_model_module_version": "1.5.0",
            "value": 1,
            "_view_count": null,
            "disabled": false,
            "_view_module_version": "1.5.0",
            "min": -2,
            "continuous_update": true,
            "readout_format": ".2f",
            "description_tooltip": null,
            "readout": true,
            "_model_module": "@jupyter-widgets/controls",
            "layout": "IPY_MODEL_cfb6a11dd1e240459bd9fa44d05df998"
          }
        },
        "dcc47ef88a2643a1bbf7336657dcbc06": {
          "model_module": "@jupyter-widgets/output",
          "model_name": "OutputModel",
          "model_module_version": "1.0.0",
          "state": {
            "_view_name": "OutputView",
            "msg_id": "",
            "_dom_classes": [],
            "_model_name": "OutputModel",
            "outputs": [
              {
                "output_type": "display_data",
                "data": {
                  "image/png": "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\n",
                  "text/plain": "<Figure size 720x504 with 1 Axes>"
                },
                "metadata": {
                  "needs_background": "light"
                }
              }
            ],
            "_view_module": "@jupyter-widgets/output",
            "_model_module_version": "1.0.0",
            "_view_count": null,
            "_view_module_version": "1.0.0",
            "layout": "IPY_MODEL_4c13a2e5116d4e86aa7b0f548676a805",
            "_model_module": "@jupyter-widgets/output"
          }
        },
        "2df855168c4044b5adf1e7984ae12755": {
          "model_module": "@jupyter-widgets/controls",
          "model_name": "SliderStyleModel",
          "model_module_version": "1.5.0",
          "state": {
            "_view_name": "StyleView",
            "handle_color": null,
            "_model_name": "SliderStyleModel",
            "description_width": "",
            "_view_module": "@jupyter-widgets/base",
            "_model_module_version": "1.5.0",
            "_view_count": null,
            "_view_module_version": "1.2.0",
            "_model_module": "@jupyter-widgets/controls"
          }
        },
        "acafe5d598e942d3896d8e6fc80bed96": {
          "model_module": "@jupyter-widgets/base",
          "model_name": "LayoutModel",
          "model_module_version": "1.2.0",
          "state": {
            "_view_name": "LayoutView",
            "grid_template_rows": null,
            "right": null,
            "justify_content": null,
            "_view_module": "@jupyter-widgets/base",
            "overflow": null,
            "_model_module_version": "1.2.0",
            "_view_count": null,
            "flex_flow": null,
            "width": null,
            "min_width": null,
            "border": null,
            "align_items": null,
            "bottom": null,
            "_model_module": "@jupyter-widgets/base",
            "top": null,
            "grid_column": null,
            "overflow_y": null,
            "overflow_x": null,
            "grid_auto_flow": null,
            "grid_area": null,
            "grid_template_columns": null,
            "flex": null,
            "_model_name": "LayoutModel",
            "justify_items": null,
            "grid_row": null,
            "max_height": null,
            "align_content": null,
            "visibility": null,
            "align_self": null,
            "height": null,
            "min_height": null,
            "padding": null,
            "grid_auto_rows": null,
            "grid_gap": null,
            "max_width": null,
            "order": null,
            "_view_module_version": "1.2.0",
            "grid_template_areas": null,
            "object_position": null,
            "object_fit": null,
            "grid_auto_columns": null,
            "margin": null,
            "display": null,
            "left": null
          }
        },
        "76839286d6344b1a9d8e6264d234ad8c": {
          "model_module": "@jupyter-widgets/controls",
          "model_name": "SliderStyleModel",
          "model_module_version": "1.5.0",
          "state": {
            "_view_name": "StyleView",
            "handle_color": null,
            "_model_name": "SliderStyleModel",
            "description_width": "",
            "_view_module": "@jupyter-widgets/base",
            "_model_module_version": "1.5.0",
            "_view_count": null,
            "_view_module_version": "1.2.0",
            "_model_module": "@jupyter-widgets/controls"
          }
        },
        "cfb6a11dd1e240459bd9fa44d05df998": {
          "model_module": "@jupyter-widgets/base",
          "model_name": "LayoutModel",
          "model_module_version": "1.2.0",
          "state": {
            "_view_name": "LayoutView",
            "grid_template_rows": null,
            "right": null,
            "justify_content": null,
            "_view_module": "@jupyter-widgets/base",
            "overflow": null,
            "_model_module_version": "1.2.0",
            "_view_count": null,
            "flex_flow": null,
            "width": null,
            "min_width": null,
            "border": null,
            "align_items": null,
            "bottom": null,
            "_model_module": "@jupyter-widgets/base",
            "top": null,
            "grid_column": null,
            "overflow_y": null,
            "overflow_x": null,
            "grid_auto_flow": null,
            "grid_area": null,
            "grid_template_columns": null,
            "flex": null,
            "_model_name": "LayoutModel",
            "justify_items": null,
            "grid_row": null,
            "max_height": null,
            "align_content": null,
            "visibility": null,
            "align_self": null,
            "height": null,
            "min_height": null,
            "padding": null,
            "grid_auto_rows": null,
            "grid_gap": null,
            "max_width": null,
            "order": null,
            "_view_module_version": "1.2.0",
            "grid_template_areas": null,
            "object_position": null,
            "object_fit": null,
            "grid_auto_columns": null,
            "margin": null,
            "display": null,
            "left": null
          }
        },
        "4c13a2e5116d4e86aa7b0f548676a805": {
          "model_module": "@jupyter-widgets/base",
          "model_name": "LayoutModel",
          "model_module_version": "1.2.0",
          "state": {
            "_view_name": "LayoutView",
            "grid_template_rows": null,
            "right": null,
            "justify_content": null,
            "_view_module": "@jupyter-widgets/base",
            "overflow": null,
            "_model_module_version": "1.2.0",
            "_view_count": null,
            "flex_flow": null,
            "width": null,
            "min_width": null,
            "border": null,
            "align_items": null,
            "bottom": null,
            "_model_module": "@jupyter-widgets/base",
            "top": null,
            "grid_column": null,
            "overflow_y": null,
            "overflow_x": null,
            "grid_auto_flow": null,
            "grid_area": null,
            "grid_template_columns": null,
            "flex": null,
            "_model_name": "LayoutModel",
            "justify_items": null,
            "grid_row": null,
            "max_height": null,
            "align_content": null,
            "visibility": null,
            "align_self": null,
            "height": null,
            "min_height": null,
            "padding": null,
            "grid_auto_rows": null,
            "grid_gap": null,
            "max_width": null,
            "order": null,
            "_view_module_version": "1.2.0",
            "grid_template_areas": null,
            "object_position": null,
            "object_fit": null,
            "grid_auto_columns": null,
            "margin": null,
            "display": null,
            "left": null
          }
        }
      }
    }
  },
  "cells": [
    {
      "cell_type": "markdown",
      "metadata": {
        "id": "view-in-github",
        "colab_type": "text"
      },
      "source": [
        "<a href=\"https://colab.research.google.com/github/ebatty/IntroCompNeuro/blob/main/lectures/MathReview.ipynb\" target=\"_parent\"><img src=\"https://colab.research.google.com/assets/colab-badge.svg\" alt=\"Open In Colab\"/></a>"
      ]
    },
    {
      "cell_type": "markdown",
      "metadata": {
        "id": "0n3ZOYn1R7It"
      },
      "source": [
        "# Review of relevant math"
      ]
    },
    {
      "cell_type": "code",
      "metadata": {
        "id": "fTY3A--bVMr-"
      },
      "source": [
        "import numpy as np\n",
        "import matplotlib.pyplot as plt\n",
        "import ipywidgets as widgets "
      ],
      "execution_count": null,
      "outputs": []
    },
    {
      "cell_type": "markdown",
      "metadata": {
        "id": "FWjOK1lWR927"
      },
      "source": [
        "# Section 1: Linear algebra\n",
        "\n"
      ]
    },
    {
      "cell_type": "markdown",
      "metadata": {
        "id": "M5P15kRzU45o"
      },
      "source": [
        "## Section 1.1: Vector operations\n",
        "\n",
        "We have several mathematical operations we perform on or with vectors. **Scalar multiplication** of a vector changes its length but not its direction (except for sometimes reversing by 180 degrees as we'll see in the next demo). When we multiply a vector, $\\bar{x}$,  by a scalar, $a$, we multiply each individual component by the scalar:\n",
        "\n",
        "$$ a\\bar{x} = \\begin{bmatrix}\n",
        "    a\\bar{x}_1 \\\\ a\\bar{x}_2 \\\\ \\vdots \\\\ a\\bar{x}_N\n",
        "\\end{bmatrix}$$\n",
        "\n",
        "You can visualize **vector addition** as the stacking of the two arrows head to tail. In essence, you are moving the second vector so its base is at the tip of the first, without changing its direction. The tip of this stacked second vector is the new added vector's tip. In order words, if you visualize two vectors as sides of a parallelogram, adding them will create a vector with the 4th vertex of that parallelogram as its tip. Numerically, this means that we add the corresponding components of each vector:\n",
        "\n",
        "\n",
        " $$\\bar{x} + \\bar{y} = \\begin{bmatrix}\n",
        "           \\bar{x}_{1} + \\bar{y}_1 \\\\ \\bar{x}_{2} + \\bar{y}_2\\\\ \\vdots \\\\ \\bar{x}_{N} + \\bar{y}_N \n",
        "\\end{bmatrix}$$\n",
        "\n",
        "\n",
        "We call a group of 2 or more vectors a **set of vectors**. A **linear combination** of a set of vectors is a combination of the set using scalar multiplication and vector addition. Essentially, we are multiplying each vector in the set by a scalar and then adding all the scalar multiplied vectors together: the output of this (another vector) is a linear combination of the set. More formally defined, a vector, $\\bar{u}$, is a linear combination of a set of vectors $\\bar{v}^1, \\bar{v}^2, ..., \\bar{v}^N$ with (scalar) weights $c_1, c_2, ...c_N$ if:\n",
        "\n",
        "\\begin{align}\n",
        "\\bar{u} = c_1\\bar{v}^1 + c_2\\bar{v}^2 + ... + c_n\\bar{v}^N\n",
        "\\end{align}.\n",
        "\n",
        "In the following demo, we will demonstrate a linear combination of two vectors, $\\bar{x}$ and $\\bar{y}$. \n",
        "\n",
        "$$\\bar{z} = a\\bar{x} + b\\bar{y}$$\n",
        "\n",
        "where $\\bar{x} = \\begin{bmatrix}3 \\\\ 1 \\\\\\end{bmatrix}$ and $\\bar{y} = \\begin{bmatrix}-1 \\\\ 2 \\\\\\end{bmatrix}$. You can change what a and b equal."
      ]
    },
    {
      "cell_type": "code",
      "metadata": {
        "colab": {
          "base_uri": "https://localhost:8080/",
          "height": 475,
          "referenced_widgets": [
            "59a29f8bd32b4b16b55be5e555fefd57",
            "3aeead9294264c7c9166064e59ba1b0f",
            "a40e3205eed743adb0504afa4a8dcb2b",
            "bed3d6b9fe5d4c8ba68dd1b476cae225",
            "9f2ba7e22a7d493c9fb8a4464d5642b2",
            "ded6371b786442ce97dbf0003eb3b6c2",
            "70dc49dc20ed4a2bb13a589ee6be4409",
            "52061d865c89493b8fcf92866e5a5f1c",
            "6ed97094883d44109e1d59c75c089695",
            "9e94f1f862cb45bd92517ae9a3567da0"
          ]
        },
        "id": "sM3CRzA6VJXH",
        "cellView": "form",
        "outputId": "488ec7c3-b586-49b1-b66f-cfc1dabc4977"
      },
      "source": [
        " #@markdown Make sure you execute this cell to enable the widget! Move the sliders for “a” and “b”. After releasing the slider, be patient for a couple of seconds to see the desired change.\n",
        "\n",
        "def plot_arrows(x, y, a_times_x, b_times_y):\n",
        "  fig, ax = plt.subplots(figsize=(10, 7))\n",
        "\n",
        "  ax.spines['top'].set_color('none')\n",
        "  ax.spines['bottom'].set_position('zero')\n",
        "  ax.spines['left'].set_position('zero')\n",
        "  ax.spines['right'].set_color('none')\n",
        "\n",
        "  ax.set_aspect('equal', adjustable='box')\n",
        "  ax.set(xlim = [-10, 10], ylim = [-10, 10], xticks = np.arange(-10, 10), yticks = np.arange(-10, 10), xticklabels = [], yticklabels = [])\n",
        "\n",
        "  ax.grid(alpha=.4)\n",
        "\n",
        "  z = a_times_x + b_times_y\n",
        "  z_arr = ax.arrow(0, 0, z[0], z[1], width=.08, color='k', length_includes_head = True);\n",
        "\n",
        "  x_orig, = ax.plot([0, x[0]], [0, x[1]], '--', color='#648FFF')\n",
        "  y_orig, = ax.plot([0, y[0]], [0, y[1]], '--',  color='#DC267F')\n",
        "\n",
        "  ax_arr = ax.arrow(0, 0, a_times_x[0], a_times_x[1], width=.08, color='#648FFF', length_includes_head = True);\n",
        "  by_arr = ax.arrow(0, 0, b_times_y[0], b_times_y[1], width=.08, color='#DC267F', length_includes_head = True);\n",
        "\n",
        "  ax.plot([a_times_x[0], z[0]], [a_times_x[1], z[1]], '--k')\n",
        "  ax.plot([b_times_y[0], z[0]], [b_times_y[1], z[1]], '--k')\n",
        "\n",
        "\n",
        "  leg = ax.legend([x_orig, y_orig, ax_arr, by_arr, z_arr], [r\"$\\bar{x}$\", r\"$\\bar{y}$\", r\"$a\\bar{x}$\", r\"$b\\bar{y}$\", r\"$\\bar{z} = a\\bar{x} + b\\bar{y}$\"], handlelength = 2, fontsize = 25, loc = 'center left', bbox_to_anchor=(1.05, .5))\n",
        "  for handle, label in zip(leg.legendHandles, leg.texts):\n",
        "      try:\n",
        "          label.set_color(handle.get_facecolor())\n",
        "      except:\n",
        "          label.set_color(handle.get_color())\n",
        "      #handle.set_visible(False)\n",
        "\n",
        "@widgets.interact(a = widgets.FloatSlider(value=1.0, min=-2, max=2, step=0.1), b = widgets.FloatSlider(value=1.0, min=-2, max=2, step=0.1))\n",
        "def plot_linear_combination(a, b):\n",
        "  x = np.array([3, 1])\n",
        "  y = np.array([-1, 2])\n",
        "\n",
        "  plot_arrows(x, y, a*x, b*y)"
      ],
      "execution_count": null,
      "outputs": [
        {
          "output_type": "display_data",
          "data": {
            "application/vnd.jupyter.widget-view+json": {
              "model_id": "59a29f8bd32b4b16b55be5e555fefd57",
              "version_minor": 0,
              "version_major": 2
            },
            "text/plain": [
              "interactive(children=(FloatSlider(value=1.0, description='a', max=2.0, min=-2.0), FloatSlider(value=1.0, descr…"
            ]
          },
          "metadata": {}
        }
      ]
    },
    {
      "cell_type": "markdown",
      "metadata": {
        "id": "eleCi8KsVBcs"
      },
      "source": [
        "## Section 1.2: Span & linear independence\n",
        "\n",
        "The **span of a set of vectors** is the set of all possible linear combinations of those vectors. In the last demo, you saw that two vectors $\\bar{x}$ and the vector $\\bar{y}$ that span 2D space (${\\rm I\\!R}^2$). This means you can get to any point in 2D space (corresponding to vector $\\bar{v}$ with some combination of $a$ and $b$, the scalar multiples in a linear combination of $\\bar{x}$ and $\\bar{y}$:\n",
        "\n",
        "$$\\bar{v} = a\\bar{x} + b\\bar{y}$$\n",
        "\n",
        "Even more specifically, in this situation, each point in 2D space is identified by a unique and single combination of $a$ and $b$: if you know the point, you know what $a$ and $b$ are. \n",
        "\n",
        "A set of vectors is linearly dependent if one can be written as a linear combination of the others. If this is not the case, the set of vectors is linearly independent.\n",
        "\n",
        "Let's look at the demo again but with a different $\\bar{x}$ and $\\bar{y}$.\n",
        "\n",
        "\n"
      ]
    },
    {
      "cell_type": "code",
      "metadata": {
        "colab": {
          "base_uri": "https://localhost:8080/",
          "height": 475,
          "referenced_widgets": [
            "0c7c52481bb649c19387f1665d3a96dd",
            "85365681dd7f4f2195416a306365ae93",
            "bdb9bc1c50d649c691b7c8b4df3ecd6c",
            "781595a085c44eb38a28d9268de2132e",
            "dcc47ef88a2643a1bbf7336657dcbc06",
            "2df855168c4044b5adf1e7984ae12755",
            "acafe5d598e942d3896d8e6fc80bed96",
            "76839286d6344b1a9d8e6264d234ad8c",
            "cfb6a11dd1e240459bd9fa44d05df998",
            "4c13a2e5116d4e86aa7b0f548676a805"
          ]
        },
        "cellView": "form",
        "id": "Y558qfZRXbiz",
        "outputId": "568fced5-d583-4479-ae1b-8830155859c4"
      },
      "source": [
        " #@markdown Make sure you execute this cell to enable the widget! Move the sliders for “a” and “b”. After releasing the slider, be patient for a couple of seconds to see the desired change.\n",
        "\n",
        "@widgets.interact(a = widgets.FloatSlider(value=1.0, min=-2, max=2, step=0.1), b = widgets.FloatSlider(value=1.0, min=-2, max=2, step=0.1))\n",
        "def plot_linear_combination(a, b):\n",
        "  x = np.array([3, 1])\n",
        "  y = np.array([6, 2])\n",
        "\n",
        "  plot_arrows(x, y, a*x, b*y)"
      ],
      "execution_count": null,
      "outputs": [
        {
          "output_type": "display_data",
          "data": {
            "application/vnd.jupyter.widget-view+json": {
              "model_id": "0c7c52481bb649c19387f1665d3a96dd",
              "version_minor": 0,
              "version_major": 2
            },
            "text/plain": [
              "interactive(children=(FloatSlider(value=1.0, description='a', max=2.0, min=-2.0), FloatSlider(value=1.0, descr…"
            ]
          },
          "metadata": {}
        }
      ]
    },
    {
      "cell_type": "markdown",
      "metadata": {
        "id": "fXcIylQKXFWu"
      },
      "source": [
        "**Stop and think!** In the demo above, what is the span of $\\bar{x}$ and $\\bar{y}$?\n",
        "\n",
        "Their span is a 1D line through 2D space - we cannot reach any place in 2D space using a linear combination of $\\bar{x}$ and $\\bar{y}$"
      ]
    },
    {
      "cell_type": "markdown",
      "metadata": {
        "id": "3L-dWhTjXkRX"
      },
      "source": [
        "**Stop and think!** In the demo above, what are $\\bar{x}$ and $\\bar{y}$ linearly independent or dependent?\n",
        "\n",
        "Linearly dependent as $\\bar{y}$ is a scalar multiple of $\\bar{x}$"
      ]
    },
    {
      "cell_type": "markdown",
      "metadata": {
        "id": "H_fp1OQWUTwi"
      },
      "source": [
        "## Section 1.3: Change of basis\n",
        "\n",
        "Let's say we have a 2D vector, [1, 3]. We are actually defining that vector with respect to the standard basis. The standard basis is: $$\\tilde{e}^1 = \\begin{bmatrix}1\\\\ 0\\end{bmatrix}, \\tilde{e}^2 = \\begin{bmatrix}0\\\\ 1\\end{bmatrix} $$\n",
        "\n",
        "Specifically, we are defining the vector as a linear combination of the two standard basis vectors where the scalars are our coordinates. So, we are defining the vector as \n",
        "\\begin{align}\n",
        "\\bar{x} &= 1\\tilde{e}^1 + 3\\tilde{e}^2\\\\ \n",
        "&= 1\\begin{bmatrix}1\\\\ 0\\end{bmatrix} + 3\\begin{bmatrix}0\\\\ 1\\end{bmatrix}\\\\\n",
        "&= \\begin{bmatrix}1 \\\\ 3\\end{bmatrix}\n",
        "\\end{align}\n",
        "\n",
        "<img src=\"https://raw.githubusercontent.com/ebatty/IntroCompNeuro/main/images/standardbasis.png\" width = \"300\">"
      ]
    },
    {
      "cell_type": "markdown",
      "metadata": {
        "id": "bpB8uSrcUIPz"
      },
      "source": [
        "This is not the only basis we could use though! Any vectors that span the space and are linearly independent form a basis for that space. \n",
        "\n",
        "Let's say we have vectors \n",
        "\n",
        "\\begin{align}\n",
        "\\bar{v}^1 = \\begin{bmatrix}1\\\\1\\end{bmatrix}, \\bar{v}^2 = \\begin{bmatrix}-1\\\\1\\end{bmatrix}\\end{align}\n",
        ", as pictured below.\n",
        "\n",
        "<img src=\"https://raw.githubusercontent.com/ebatty/IntroCompNeuro/main/images/newbasis.png\" width = \"300\">\n",
        "\n",
        "We could define space with respect to these basis vectors instead. Essentially, we are defining a new grid using these vectors:\n",
        "\n",
        "<img src=\"https://raw.githubusercontent.com/ebatty/IntroCompNeuro/main/images/newbasis2.png\" width = \"300\">\n",
        "\n",
        "We can see that the coordinates of the vector $\\bar{x}$ with respect to $\\bar{v}^1$ and $\\bar{v}^2$ are $\\begin{bmatrix}2\\\\1\\end{bmatrix}$. The vector is two units up $\\bar{v}^1$ and one unit up $\\bar{v}^2$. We could change basis back to our standard basis with:\n",
        "\\begin{align}\n",
        "\\bar{x} &= 2\\bar{v}^1 + 1\\bar{v}^2\\\\ \n",
        "&= 2\\begin{bmatrix}1\\\\ 1\\end{bmatrix} + 1\\begin{bmatrix}-1\\\\ 1\\end{bmatrix}\\\\\n",
        "&= \\begin{bmatrix}1 \\\\ 3\\end{bmatrix}\n",
        "\\end{align}"
      ]
    },
    {
      "cell_type": "markdown",
      "metadata": {
        "id": "djB51_61Sgxp"
      },
      "source": [
        "## Section 1.4: More resources on vector basis and basis changes"
      ]
    },
    {
      "cell_type": "code",
      "metadata": {
        "id": "f6Cz4WnBRzBm",
        "colab": {
          "base_uri": "https://localhost:8080/",
          "height": 518
        },
        "cellView": "form",
        "outputId": "7063afa8-5020-4686-c139-444e7a9efd13"
      },
      "source": [
        "  # @markdown Execute to see brief video on change of basis\n",
        "  from IPython.display import YouTubeVideo\n",
        "  video = YouTubeVideo(id=\"P2LTAUO1TdA\", width=854, height=480, fs=1, rel=0)\n",
        "  print('Video available at https://youtube.com/watch?v=' + video.id)\n",
        "  display(video)"
      ],
      "execution_count": null,
      "outputs": [
        {
          "output_type": "stream",
          "name": "stdout",
          "text": [
            "Video available at https://youtube.com/watch?v=P2LTAUO1TdA\n"
          ]
        },
        {
          "output_type": "display_data",
          "data": {
            "text/html": [
              "\n",
              "        <iframe\n",
              "            width=\"854\"\n",
              "            height=\"480\"\n",
              "            src=\"https://www.youtube.com/embed/P2LTAUO1TdA?fs=1&rel=0\"\n",
              "            frameborder=\"0\"\n",
              "            allowfullscreen\n",
              "        ></iframe>\n",
              "        "
            ],
            "text/plain": [
              "<IPython.lib.display.YouTubeVideo at 0x7f648ca3eed0>"
            ],
            "image/jpeg": "[encoded data removed]"
          },
          "metadata": {}
        }
      ]
    },
    {
      "cell_type": "markdown",
      "metadata": {
        "id": "tPAw3FGMSChc"
      },
      "source": [
        "# Section 2: Dynamical Systems\n",
        "\n"
      ]
    },
    {
      "cell_type": "markdown",
      "metadata": {
        "id": "fbGSlqrQaBVl"
      },
      "source": [
        "## Section 2.1: Continuous dynamical systems & different equations\n",
        "\n",
        "Continuous dynamical systems concern the evolution of variables over time, where the update rules are differential equations.\n",
        "\n",
        "Let's look at a dynamical system with just one variable. We will look at a population of humans (from https://compneuro.neuromatch.io/tutorials/W0D4_Calculus/student/W0D4_Tutorial2.html#video-2-population-differential-equation). The population changes according to:\n",
        "\n",
        "$$\\frac{d}{dt}p(t) = \\alpha p(t) $$\n",
        "\n",
        "In other words, the change in population is equal to the birth rate ($\\alpha$) times the current population.\n",
        "\n"
      ]
    },
    {
      "cell_type": "markdown",
      "metadata": {
        "id": "FdtyZ1xsa_Nx"
      },
      "source": [
        "### Section 2.1.1: Analytical solution\n",
        "\n",
        "In this case, we can actually solve this differential equation to come up with an equation for $p(t)$ that does not include a derivative:\n",
        "\\begin{align}\n",
        "p(t) = p(0)e^{\\alpha t}\n",
        "\\end{align}\n",
        "\n",
        "We won't worry about how to come up with analytical solutions for differential equations, but we can prove this is a solution by taking the derivative of it:\n",
        "\n",
        "\\begin{align}\n",
        "p(t) &= p(0)e^{\\alpha t}\\\\\n",
        "\\frac{d}{dt}p(t) &= \\frac{d}{dt}p(0)e^{\\alpha t}\\\\\n",
        "\\frac{d}{dt}p(t) &= p(0)\\alpha e^{\\alpha t}\\\\\n",
        "\\frac{d}{dt}p(t) &= \\alpha p(0)e^{\\alpha t}\\\\\n",
        "\\frac{d}{dt}p(t) &= \\alpha p(t)\\\\\n",
        "\\end{align}\n",
        "\n",
        "In this last step, we used the fact that the two terms on the most right side ($p(0)e^{\\alpha t}$ are $p(t)$. You can see we found our differential equation so our solution is correct!"
      ]
    },
    {
      "cell_type": "markdown",
      "metadata": {
        "id": "5RT-HaazbBkY"
      },
      "source": [
        "### Section 2.1.2: Euler's method\n",
        "\n",
        "Often, we can't come up with a nice analytical solution to a differential equation, so we have to use Euler's method.\n",
        "\n",
        "Let's say we have a differential equation of y over time, $\\frac{dy}{dt}$ and we know the value of $y$ at time $t_n$. We can approximate the value of y at time $t_{n+1}$ using the derivative. Specifically, the derivative gives the slope of a tangent line at the curve at $y_n$ (that's the definition of a derivative). \n",
        "\n",
        "<img src=\"https://upload.wikimedia.org/wikipedia/commons/e/ee/Forward_Euler_method_illustration.png\" width = \"300\">\n",
        "\n",
        "Remember that the slope can also be computed as rise over run, so we could approximate as\n",
        "\n",
        "$$\\frac{dy}{dt} = \\frac{y_{n+1} - y_n}{t_{n+1} - t_n} $$\n",
        "\n",
        "if the time difference is really small. If we rearrange this equation and use $dt = t_{n+1} - t_n$, we get \n",
        "\n",
        "$$y_{n+1} = y_n + \\frac{dy(t_n)}{dt}dt $$\n",
        "\n",
        "We can keep stepping along and approximating the next y value using this equation. Note, it will only be an accurate approximation if dt is small.\n",
        "\n",
        "Let's look at this for our population equation.\n",
        "\n",
        "We will use helper code from https://compneuro.neuromatch.io/tutorials/W0D4_Calculus/student/W0D4_Tutorial3.html."
      ]
    },
    {
      "cell_type": "code",
      "metadata": {
        "cellView": "form",
        "id": "LfFfVYJ2fHf8"
      },
      "source": [
        "# @markdown Execute to get helper function `visualize_population_approx`\n",
        "def visualize_population_approx(t, p):\n",
        "    fig = plt.figure(figsize=(6, 4))\n",
        "    plt.plot(t, np.exp(0.3*t), 'k', label='Exact Solution')\n",
        "\n",
        "    plt.plot(t, p,':o', label='Euler Estimate')\n",
        "    plt.vlines(t, p, np.exp(0.3*t),\n",
        "              colors='r', linestyles='dashed', label=r'Error $e_k$')\n",
        "\n",
        "    plt.ylabel('Population (millions)')\n",
        "    plt.legend()\n",
        "    plt.xlabel('Time (years)')\n",
        "    plt.show()\n"
      ],
      "execution_count": null,
      "outputs": []
    },
    {
      "cell_type": "code",
      "metadata": {
        "colab": {
          "base_uri": "https://localhost:8080/",
          "height": 279
        },
        "id": "YMkOgg7Ve6qP",
        "outputId": "b3de14e0-b18d-494c-b08c-20c14874c84f"
      },
      "source": [
        "# Time step\n",
        "dt = 1\n",
        "\n",
        "# Make time range from 1 to 5 years with step size dt\n",
        "t = np.arange(1, 5+dt/2, dt)\n",
        "\n",
        "# Get number of steps\n",
        "n = len(t)\n",
        "\n",
        "# Initialize p array\n",
        "p = np.zeros(n)\n",
        "p[0] = np.exp(0.3*t[0]) # initial condition\n",
        "\n",
        "# Loop over steps\n",
        "for k in range(n-1):\n",
        "\n",
        "  # Calculate the population step\n",
        "  dp_dt = .3 * p[k]\n",
        "  p[k+1] = p[k] + dt * dp_dt\n",
        "\n",
        "# Visualize\n",
        "visualize_population_approx(t, p)"
      ],
      "execution_count": null,
      "outputs": [
        {
          "output_type": "display_data",
          "data": {
            "image/png": "[encoded data removed]",
            "text/plain": [
              "<Figure size 432x288 with 1 Axes>"
            ]
          },
          "metadata": {
            "needs_background": "light"
          }
        }
      ]
    },
    {
      "cell_type": "markdown",
      "metadata": {
        "id": "n8wNY9dldH0t"
      },
      "source": [
        "## Section 2.2: Plotting 2D systems of differential equations\n",
        "\n",
        "TBD"
      ]
    },
    {
      "cell_type": "markdown",
      "metadata": {
        "id": "qOhgz1S-gzD4"
      },
      "source": [
        "## Section 2.3: Fixed points & stability\n",
        "\n",
        "Fixed points in continuous dynamical systems occur when all derivatives are equal to 0.\n",
        "\n",
        "If we have:\n",
        "\n",
        "\\begin{align}\n",
        "\\frac{dx_1}{dt} &= F(x_1, x_2)\\\\\n",
        "\\frac{dx_2}{dt} &= G(x_1, x_2)\n",
        "\\end{align}\n",
        "\n",
        "the fixed points would occur at the ($x_1$, $x_2$) pairs where \n",
        "\n",
        "\\begin{align}\n",
        "F(x_1, x_2) = 0\\\\\n",
        "G(x_1, x_2) = 0\n",
        "\\end{align}\n",
        "\n",
        "Fixed points can either be **stable** or **unstable**. In both cases, if the system is at the fixed point, it will stay there (because there is no change, the derivatives are equal to 0). If the system starts near a fixed point and goes towards it, that fixed point is stable. If the sytem starts near a fixed point and isn't drawn towards it, that fixed point is unstable."
      ]
    },
    {
      "cell_type": "markdown",
      "metadata": {
        "id": "obiaazB1R7DF"
      },
      "source": [
        "## Section 2.4: Eigenvalues/eigenvectors in differential equations\n",
        "\n"
      ]
    },
    {
      "cell_type": "markdown",
      "metadata": {
        "id": "IYGv_MFYfvKJ"
      },
      "source": [
        "### Section 2.4.1: First order differential equations\n",
        "Let's assume we have two differential equations of the form:\n",
        "\\begin{align}\n",
        "\\frac{dx_1}{dt} &= a_1x_1 + a_2x_2\\\\\n",
        "\\frac{dx_2}{dt} &= b_1x_1 + b_2x_2\n",
        "\\end{align}\n",
        "\n",
        "We can write this using matrix-vector notation:\n",
        "\n",
        "\\begin{align}\n",
        "\\frac{d\\bar{x}}{dt} = A\\bar{x}\n",
        "\\end{align}\n",
        "\n",
        "where\n",
        "\n",
        "\\begin{align}\n",
        "A = \\begin{bmatrix}a_1 & a_2 \\\\ b_1 & b_2\\end{bmatrix}\n",
        "\\end{align}\n",
        "\n",
        "This system has one fixed point at (0, 0).\n",
        "\n",
        "The eigenvalues and eigenvectors of A tell us the stability of this fixed point and what will happen in this system. See below to see what will happen with different eigenvalue options."
      ]
    },
    {
      "cell_type": "code",
      "metadata": {
        "cellView": "form",
        "colab": {
          "base_uri": "https://localhost:8080/",
          "height": 395
        },
        "id": "0GhPEjfmgiJA",
        "outputId": "4a8f1916-0117-465a-fa70-4e7ca548546b"
      },
      "source": [
        "#@markdown Execute this cell to view dynamical systems gif\n",
        "\n",
        "from IPython.display import Image\n",
        "\n",
        "Image(url = 'https://github.com/ebatty/MathToolsforNeuroscience/blob/master/dynsysdemo.gif?raw=True', width=700)"
      ],
      "execution_count": null,
      "outputs": [
        {
          "output_type": "execute_result",
          "data": {
            "text/html": [
              "<img src=\"https://github.com/ebatty/MathToolsforNeuroscience/blob/master/dynsysdemo.gif?raw=True\" width=\"700\"/>"
            ],
            "text/plain": [
              "<IPython.core.display.Image object>"
            ]
          },
          "metadata": {},
          "execution_count": 15
        }
      ]
    },
    {
      "cell_type": "markdown",
      "metadata": {
        "id": "3eRKayGkhinn"
      },
      "source": [
        "### Section 2.4.2: More complex differential equations\n",
        "\n",
        "Let's say we have more complex differential equations:\n",
        "\n",
        "\\begin{align}\n",
        "\\frac{dx_1}{dt} &= F(x_1, x_2)\\\\\n",
        "\\frac{dx_2}{dt} &= G(x_1, x_2)\n",
        "\\end{align}\n",
        "\n",
        "where $F$ and $G$ are some complex functions. This system could have any number of fixed points.\n",
        "\n",
        "This system is more complicated that the simple case in section 2.4.1, but we can still use the information there. \n",
        "\n",
        "First, we need to find the fixed points of this system. It turns out that we can approximate the system near each fixed point as a more simple system:\n",
        "\n",
        "\\begin{align}\n",
        "\\frac{d\\bar{x}}{dt} = J\\bar{x}\n",
        "\\end{align}\n",
        "where $J$ is the Jacobian of the system, the matrix of partial derivatives:\n",
        "\n",
        "$$J = \\begin{bmatrix}\\frac{dF}{dx_1} & \\frac{dF}{dx_2} \\\\ \\frac{dG}{dx_1} & \\frac{dG}{dx_2}\\end{bmatrix}$$\n",
        "\n",
        "So, the eigenvalues of the Jacobian at a fixed point tells us the behavior near that fixed point."
      ]
    },
    {
      "cell_type": "markdown",
      "metadata": {
        "id": "JnKGsBqSdNs8"
      },
      "source": [
        "## Section 2.5: More resources on differential equations & dynamical systems"
      ]
    },
    {
      "cell_type": "code",
      "metadata": {
        "id": "oa4pYJ8aR-h7",
        "colab": {
          "base_uri": "https://localhost:8080/",
          "height": 538
        },
        "cellView": "form",
        "outputId": "abfb2727-a681-406a-fad3-54802a2d76ca"
      },
      "source": [
        "  # @markdown Execute to see video on 1 differential equation and Euler's method\n",
        "  from IPython.display import YouTubeVideo\n",
        "  video = YouTubeVideo(id=\"rSMn_aU_XgA\", width=854, height=480, fs=1, rel=0)\n",
        "  print('Video available at https://youtube.com/watch?v=' + video.id)\n",
        "  display(video)"
      ],
      "execution_count": null,
      "outputs": [
        {
          "output_type": "stream",
          "name": "stdout",
          "text": [
            "Video available at https://youtube.com/watch?v=rSMn_aU_XgA\n"
          ]
        },
        {
          "output_type": "display_data",
          "data": {
            "text/html": [
              "\n",
              "        <iframe\n",
              "            width=\"854\"\n",
              "            height=\"480\"\n",
              "            src=\"https://www.youtube.com/embed/rSMn_aU_XgA?fs=1&rel=0\"\n",
              "            frameborder=\"0\"\n",
              "            allowfullscreen\n",
              "        ></iframe>\n",
              "        "
            ],
            "text/plain": [
              "<IPython.lib.display.YouTubeVideo at 0x7f648833f310>"
            ],
            "image/jpeg": "[encoded data removed]"
          },
          "metadata": {}
        }
      ]
    },
    {
      "cell_type": "code",
      "metadata": {
        "colab": {
          "base_uri": "https://localhost:8080/",
          "height": 538
        },
        "id": "2UHInsW5jC_l",
        "outputId": "2570207c-ec47-49b1-e7b3-1cfb9212862c"
      },
      "source": [
        "  # @markdown Execute to see video on systems of differential equations\n",
        "  from IPython.display import YouTubeVideo\n",
        "  video = YouTubeVideo(id=\"lV8SoeAxLgM\", width=854, height=480, fs=1, rel=0)\n",
        "  print('Video available at https://youtube.com/watch?v=' + video.id)\n",
        "  display(video)"
      ],
      "execution_count": null,
      "outputs": [
        {
          "output_type": "stream",
          "name": "stdout",
          "text": [
            "Video available at https://youtube.com/watch?v=lV8SoeAxLgM\n"
          ]
        },
        {
          "output_type": "display_data",
          "data": {
            "text/html": [
              "\n",
              "        <iframe\n",
              "            width=\"854\"\n",
              "            height=\"480\"\n",
              "            src=\"https://www.youtube.com/embed/lV8SoeAxLgM?fs=1&rel=0\"\n",
              "            frameborder=\"0\"\n",
              "            allowfullscreen\n",
              "        ></iframe>\n",
              "        "
            ],
            "text/plain": [
              "<IPython.lib.display.YouTubeVideo at 0x7f64882f7ed0>"
            ],
            "image/jpeg": "[encoded data removed]"
          },
          "metadata": {}
        }
      ]
    }
  ]
}