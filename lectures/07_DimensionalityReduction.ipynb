{
  "nbformat": 4,
  "nbformat_minor": 0,
  "metadata": {
    "colab": {
      "name": "07_DimensionalityReduction.ipynb",
      "provenance": [],
      "authorship_tag": "ABX9TyNzWCuyYYzvZGpN3U+hFIA+",
      "include_colab_link": true
    },
    "kernelspec": {
      "name": "python3",
      "display_name": "Python 3"
    },
    "language_info": {
      "name": "python"
    }
  },
  "cells": [
    {
      "cell_type": "markdown",
      "metadata": {
        "id": "view-in-github",
        "colab_type": "text"
      },
      "source": [
        "<a href=\"https://colab.research.google.com/github/ebatty/IntroCompNeuro/blob/main/lectures/07_DimensionalityReduction.ipynb\" target=\"_parent\"><img src=\"https://colab.research.google.com/assets/colab-badge.svg\" alt=\"Open In Colab\"/></a>"
      ]
    },
    {
      "cell_type": "markdown",
      "metadata": {
        "id": "vk76ND_IcwtC"
      },
      "source": [
        "# 07 - Dimensionality Reduction\n",
        "\n",
        "By the end of this lecture/lecture notes, students should be able to:\n",
        "- Explain what dimensionality reduction means\n",
        "- Explain the basic principles of PCA\n",
        "- Give examples of how dimensionality reduction is used in neuroscience"
      ]
    },
    {
      "cell_type": "markdown",
      "metadata": {
        "id": "mTsAHeOidHAt"
      },
      "source": [
        "# Section 1: Intro to dimensionality reduction in neuroscience\n",
        "\n",
        "(From NMA W1D4 intro): Dimensionality reduction is a core machine learning technique that is used constantly in neuroscience for a variety of reasons. Dimensionality reduction means that we are transforming data from a high-dimensional space into a lower-dimensional space.  Neuroscientists use it as a simple data analysis tool to compress data into a lower number of dimensions that is better suited for further analysis and modeling. For example, decoding all pixels of an image from neural data is difficult as that is 100s to 1000s of dimensions. We could instead compress to a lower dimensional version of those images and decode that using the methods and models we’ve already learned about. We can also visualize data better in lower dimensions - we will use PCA to visualize the internal representations of a deep network and mouse brain later in this course. We can also use dimensionality reduction to think about and investigate low-dimensional structure in the brain - whether it exists, how it is formed, and so on. "
      ]
    },
    {
      "cell_type": "code",
      "metadata": {
        "cellView": "form",
        "id": "E2hpGvducyNs"
      },
      "source": [
        "#@markdown Video: Dimensionality reduction\n",
        "from IPython.display import YouTubeVideo\n",
        "video = YouTubeVideo(id=\"zeBFyRaoVnQ\", width=854, height=480, fs=1)\n",
        "print(\"Video available at https://youtube.com/watch?v=\" + video.id)\n",
        "video"
      ],
      "execution_count": null,
      "outputs": []
    },
    {
      "cell_type": "markdown",
      "metadata": {
        "id": "f_By9hcSdwYf"
      },
      "source": [
        "# Section 2: PCA\n",
        "\n",
        "The following video presents the math of PCA, which we covered in class.\n"
      ]
    },
    {
      "cell_type": "code",
      "metadata": {
        "cellView": "form",
        "id": "yUPVOHc-dau7"
      },
      "source": [
        "#@markdown Video: PCA\n",
        "from IPython.display import YouTubeVideo\n",
        "video = YouTubeVideo(id=\"K7V_Z81H_Vw\", width=854, height=480, fs=1)\n",
        "print(\"Video available at https://youtube.com/watch?v=\" + video.id)\n",
        "video"
      ],
      "execution_count": null,
      "outputs": []
    },
    {
      "cell_type": "markdown",
      "metadata": {
        "id": "wVGMQoRHecN1"
      },
      "source": [
        "# Optional Reading\n",
        "\n",
        "Content:\n",
        "\n",
        "- Nice primer on dimensionality reduction in neuroscience, which also highlights single neuron coding: https://www.sciencedirect.com/science/article/pii/S0960982216304870 \n",
        "\n",
        "- Tutorials stepping through PCA more slowly in code: https://compneuro.neuromatch.io/tutorials/W1D5_DimensionalityReduction/chapter_title.html\n",
        "\n",
        "- Video on dimensionality reduction in the context of brain-computer interfaces: https://youtube.com/watch?v=Vaut2BJlv10 \n",
        "\n",
        "- Review as of 2014 on dimensionality reduction of large-scale neural recordings: https://users.ece.cmu.edu/~byronyu/papers/CunninghamYuNN2014.pdf \n",
        " \n",
        "\n",
        "Related research papers:\n",
        "\n",
        "Paper which shows low-dimensional structure of neural responses during reaching: https://www.nature.com/articles/nature11129"
      ]
    }
  ]
}