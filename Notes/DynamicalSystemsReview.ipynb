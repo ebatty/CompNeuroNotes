{
  "nbformat": 4,
  "nbformat_minor": 0,
  "metadata": {
    "colab": {
      "provenance": [],
      "collapsed_sections": [],
      "toc_visible": true,
      "authorship_tag": "ABX9TyPCQJY80Mhv4xWGyulmUcnN",
      "include_colab_link": true
    },
    "kernelspec": {
      "name": "python3",
      "display_name": "Python 3"
    },
    "language_info": {
      "name": "python"
    }
  },
  "cells": [
    {
      "cell_type": "markdown",
      "metadata": {
        "id": "view-in-github",
        "colab_type": "text"
      },
      "source": [
        "<a href=\"https://colab.research.google.com/github/ebatty/IntroCompNeuro/blob/main/Notes/DynamicalSystemsReview.ipynb\" target=\"_parent\"><img src=\"https://colab.research.google.com/assets/colab-badge.svg\" alt=\"Open In Colab\"/></a>"
      ]
    },
    {
      "cell_type": "markdown",
      "source": [
        "# Dynamical Systems Review"
      ],
      "metadata": {
        "id": "0q-GRmcE4QTI"
      }
    },
    {
      "cell_type": "code",
      "metadata": {
        "id": "fTY3A--bVMr-"
      },
      "source": [
        "import numpy as np\n",
        "import matplotlib.pyplot as plt\n",
        "import ipywidgets as widgets "
      ],
      "execution_count": null,
      "outputs": []
    },
    {
      "cell_type": "markdown",
      "metadata": {
        "id": "tPAw3FGMSChc"
      },
      "source": [
        "# Section 1: One-dimensional dynamical systems\n",
        "\n"
      ]
    },
    {
      "cell_type": "markdown",
      "source": [
        "Much of the concepts (although not the specific example) covered in this section is covered in even greater detail in the following video. You can access the notes for this video here: https://osf.io/4twh6/"
      ],
      "metadata": {
        "id": "OQdLL-yX2MpZ"
      }
    },
    {
      "cell_type": "code",
      "source": [
        "  # @markdown Execute to see video on 1 differential equation and Euler's method\n",
        "  from IPython.display import YouTubeVideo\n",
        "  video = YouTubeVideo(id=\"rSMn_aU_XgA\", width=854, height=480, fs=1, rel=0)\n",
        "  print('Video available at https://youtube.com/watch?v=' + video.id)\n",
        "  display(video)"
      ],
      "metadata": {
        "cellView": "form",
        "colab": {
          "base_uri": "https://localhost:8080/",
          "height": 539
        },
        "id": "J1JXDSeu2P5s",
        "outputId": "f0b48a50-ecf0-48fa-e7aa-658553be7cf3"
      },
      "execution_count": null,
      "outputs": [
        {
          "output_type": "stream",
          "name": "stdout",
          "text": [
            "Video available at https://youtube.com/watch?v=rSMn_aU_XgA\n"
          ]
        },
        {
          "output_type": "display_data",
          "data": {
            "text/plain": [
              "<IPython.lib.display.YouTubeVideo at 0x7fd7b34facd0>"
            ],
            "text/html": [
              "\n",
              "        <iframe\n",
              "            width=\"854\"\n",
              "            height=\"480\"\n",
              "            src=\"https://www.youtube.com/embed/rSMn_aU_XgA?fs=1&rel=0\"\n",
              "            frameborder=\"0\"\n",
              "            allowfullscreen\n",
              "        ></iframe>\n",
              "        "
            ],
            "image/jpeg": "[encoded data removed]"
          },
          "metadata": {}
        }
      ]
    },
    {
      "cell_type": "markdown",
      "metadata": {
        "id": "fbGSlqrQaBVl"
      },
      "source": [
        "\n",
        "Continuous dynamical systems concern the evolution of variables over time, where the update rules are differential equations.\n",
        "\n",
        "Let's look at a dynamical system with just one variable concerning ion channel kinetics.\n"
      ]
    },
    {
      "cell_type": "markdown",
      "source": [
        "## Section 1.1: Dynamical System Example\n",
        "\n",
        "Let's say that we have a population of ion channels of the same type, which are individually either open or closed. There is some rate at which the channels open, dependent on the voltage of the cell, $\\alpha(V)$ and some rate at which they close, $\\beta(V)$. These would be in units 1/ms (essentially the number of times in a ms that a gate closes and vice versa) and can be found empirically. We suddenly step the voltage to one that opens channels and keep it at that voltage. Although $\\alpha$ and $\\beta$ are normally voltage-dependent, we will treat them as constants from here on out since we are holding the voltage steady.\n",
        "\n",
        "We need to introduce two more variables before writing out a differential equation that defines our system: $P_o$ is the proportion of channels that are open (or equivalently the probability that a particular channel is open) and $P_c$ is the the proportion of closed channels (or equivalently the probability that a particular channel is closed).\n",
        "\n",
        "We will now write out a differential equation to model what happens when we step to a certain voltage. In particular, we want to figure out how the proportion of open channels, $P_o$, changes over time. This means we want to find a differential equation $\\frac{dP_o}{dt} = ...$. We will take you through this process step by step."
      ],
      "metadata": {
        "id": "QDJ2DbzO2wPH"
      }
    },
    {
      "cell_type": "markdown",
      "source": [
        "Let's say $P(opening)$ is the proportion of channels opening over some tiny time step and $P(closing)$ is the proportion of channels closing. \n",
        "\n",
        "The rate of change of the proportion of open channels is the proportion that are opening minus the proportion that are closing:\n",
        "\n",
        "$$\\frac{dP_o}{dt} = P(opening) - P(closing)$$\n",
        "\n",
        "The proportion of channels opening over a small time period is equal to the proportion that were closed times the rate of opening:\n",
        "\n",
        "$$P(opening) = \\alpha P_c$$\n",
        "\n",
        "\n",
        "The proportion of channels closing over a small time period is equal to the proportion that were open times the rate of closing:\n",
        "\n",
        "$$P(closing) = \\beta P_o$$\n",
        "\n",
        "Now we combine all of this information and the fact that the proportion of open channels and the proportion of closed channels must add up to 1:\n",
        "\n",
        "$$\\begin{align}\n",
        "\\frac{dP_o}{dt} &= P(opening) - P(closing) \\\\\n",
        "&= \\alpha P_c - \\beta P_o \\\\\n",
        "&= \\alpha (1 - P_o) - \\beta P_o \\\\\n",
        "& = \\alpha - (\\alpha + \\beta)P_o\n",
        "\\end{align}$$\n",
        "\n",
        "We will assume that $\\alpha=.3$ and $\\beta=.1$"
      ],
      "metadata": {
        "id": "-f0x6VSG3I_V"
      }
    },
    {
      "cell_type": "markdown",
      "metadata": {
        "id": "FdtyZ1xsa_Nx"
      },
      "source": [
        "## Section 1.2: Analytical solution\n",
        "\n",
        "**Note this is for demonstration purposes but you won't usually have to analytically solve equations in this course.**\n",
        "\n",
        "In this case, we can actually solve this differential equation (integrate both sides) to come up with an equation for $P_o(t)$ that does not include a derivative.\n",
        "\n",
        "\n",
        "\n",
        "The general form of a first order linear differential equation is:\n",
        "\n",
        "$$ \\frac{dx}{dt} + p(t)x = g(t)$$\n",
        "\n",
        "In this case, we can compute the solution as:\n",
        "\n",
        "$$ x(t) = \\frac{\\int \\mu(t) g(t) dt + C}{\\mu(t)} $$\n",
        "where $\\mu(t) = e^{\\int p(t) dt}$.\n",
        "\n",
        "Let's do so:\n",
        "\n",
        "$$\\begin{align} \n",
        "\\frac{dP_o}{dt} & = \\alpha - (\\alpha + \\beta)P_o \\\\\n",
        "\\frac{dP_o}{dt} + (\\alpha + \\beta)P_o & = \\alpha \\\\\n",
        "g(t) &= \\alpha\\\\\n",
        "p(t) &= \\alpha+\\beta \\\\\n",
        "\\mu(t) & = e^{\\int p(t) dt} = e^{\\int \\alpha + \\beta dt} = e^{(\\alpha + \\beta)t + C}\n",
        "\\end{align} $$\n",
        "\n",
        "Now we substitute into our equation for $x(t)$. We will drop the C from $\\mu$ because it's taken care of by the constant in this equation.\n",
        "\n",
        "\n",
        "$$ \\begin{align}\n",
        "P_o(t) &= \\frac{\\int \\mu(t) g(t) dt + C}{\\mu(t)}\\\\\n",
        "& = \\frac{\\int e^{(\\alpha + \\beta)t}\\alpha dt + C}{e^{(\\alpha+\\beta)t}} \\\\\n",
        "& = \\frac{ \\frac{\\alpha}{\\alpha+\\beta}{e^{(\\alpha+\\beta)t}}+ C}{e^{(\\alpha+\\beta)t}}\\\\\n",
        "& = \\frac{\\alpha}{\\alpha+\\beta} + Ce^{-(\\alpha+\\beta)t}\n",
        "\\end{align} $$\n",
        "\n",
        "We now have our analytical solution. We can solve for C based on the initial condition."
      ]
    },
    {
      "cell_type": "markdown",
      "metadata": {
        "id": "5RT-HaazbBkY"
      },
      "source": [
        "## Section 1.3: Euler's method\n",
        "\n",
        "Often, we can't come up with a nice analytical solution to a differential equation, so we have to use Euler's method.\n",
        "\n",
        "Let's say we have a differential equation of y over time, $\\frac{dy}{dt}$ and we know the value of $y$ at time $t_n$. We can approximate the value of y at time $t_{n+1}$ using the derivative. Specifically, the derivative gives the slope of a tangent line at the curve at $y_n$ (that's the definition of a derivative). \n",
        "\n",
        "<img src=\"https://upload.wikimedia.org/wikipedia/commons/e/ee/Forward_Euler_method_illustration.png\" width = \"300\">\n",
        "\n",
        "Remember that the slope can also be computed as rise over run, so we could approximate as\n",
        "\n",
        "$$\\frac{dy}{dt} = \\frac{y_{n+1} - y_n}{t_{n+1} - t_n} $$\n",
        "\n",
        "if the time difference is really small. If we rearrange this equation and use $dt = t_{n+1} - t_n$, we get \n",
        "\n",
        "$$y_{n+1} = y_n + \\frac{dy(t_n)}{dt}dt $$\n",
        "\n",
        "We can keep stepping along and approximating the next y value using this equation. Note, it will only be an accurate approximation if dt is small.\n"
      ]
    },
    {
      "cell_type": "code",
      "metadata": {
        "cellView": "form",
        "id": "LfFfVYJ2fHf8"
      },
      "source": [
        "# @markdown Execute to get helper function `plot_trajectories`\n",
        "def plot_trajectories(t, numerical_P, init_Po, alpha, beta):\n",
        "\n",
        "  # Get analytical solution\n",
        "  analytical_t = np.arange(0, t[-1], .01)\n",
        "  C = init_Po - alpha/(alpha + beta)\n",
        "  analytical_P = alpha/(alpha + beta) + C*np.exp(-(alpha+beta)*analytical_t)\n",
        "\n",
        "  fig, ax = plt.subplots()\n",
        "  ax.plot(analytical_t, analytical_P,'#33D396', linewidth=3)\n",
        "  ax.plot(t, numerical_P, '#1F59EB')\n",
        "  \n",
        "  ax.set(xlabel='Time (ms)', ylabel = 'Probability of channel open', ylim=[-1, 1])\n",
        "  plt.legend(['Analytical','Numerical'])\n",
        "  \n",
        "\n"
      ],
      "execution_count": null,
      "outputs": []
    },
    {
      "cell_type": "code",
      "metadata": {
        "colab": {
          "base_uri": "https://localhost:8080/",
          "height": 283
        },
        "id": "YMkOgg7Ve6qP",
        "outputId": "445bef26-0530-481d-ade3-bd08f7f36b98"
      },
      "source": [
        "def prob_open_euler_integration(init_Po, dt, T, alpha=0.3, beta=0.1):\n",
        "  \"\"\"Numerically approximate the solution of the differential equation governing \n",
        "  ion channel kinetics given an initial condition for a duration T. \n",
        "\n",
        "  Args:\n",
        "    init_Po (scalar): value of Po at start of simulation (at time = 0)\n",
        "    dt (scalar): timestep of the simulation\n",
        "    T (scalar): total duration of the simulation\n",
        "    alpha (scalar): rate of change of ion channel opening\n",
        "    beta (scalar): rate of change of ion channel closing\n",
        "\n",
        "  Returns:\n",
        "    ndarray, ndarray: Po and the time t at each step\n",
        "  \"\"\"\n",
        "\n",
        "  # Initialize variables\n",
        "  t = np.arange(0, T, dt)\n",
        "  P = np.zeros_like(t)\n",
        "  P[0] = init_Po # This is Po at time 0\n",
        "\n",
        "  # Step through time\n",
        "  for n in range(0, len(t)-1):\n",
        "\n",
        "    # for each point in time, compute dP_dt from P[n]\n",
        "    dP_dt = alpha - (beta+alpha)*P[n]\n",
        "\n",
        "    # Update P[n+1] based on P[n] and dP_dt\n",
        "    P[n+1] = P[n] + dP_dt *dt\n",
        "\n",
        "  return P, t\n",
        "\n",
        "\n",
        "init_Po = .4\n",
        "dt = .01 # step size is .01 ms\n",
        "T = 50 # run simulation for 50 ms\n",
        "alpha = .3\n",
        "beta = .1\n",
        "\n",
        "numerical_P, t = prob_open_euler_integration(init_Po, dt, T, alpha, beta)\n",
        "\n",
        "\n",
        "plot_trajectories(t, numerical_P, init_Po, alpha, beta)\n"
      ],
      "execution_count": null,
      "outputs": [
        {
          "output_type": "display_data",
          "data": {
            "text/plain": [
              "<Figure size 432x288 with 1 Axes>"
            ],
            "image/png": "[encoded data removed]"
          },
          "metadata": {
            "needs_background": "light"
          }
        }
      ]
    },
    {
      "cell_type": "markdown",
      "source": [
        "You can see that the numerical approximation so closely follows the analytical solution that they're indistinguishable in the plot above. With larger dt, these two lines would diverge more (the numerical approximation is less accurate)."
      ],
      "metadata": {
        "id": "j8EInnge4Ihl"
      }
    },
    {
      "cell_type": "markdown",
      "source": [
        "## Section 1.4: Graphical fixed point analysis\n",
        "\n",
        "Fixed points in continuous dynamical systems occur when all derivatives are equal to 0. These are also called equilibrium and critical points.\n",
        "\n",
        "\n",
        "Fixed points can either be **stable** or **unstable**. In both cases, if the system is at the fixed point, it will stay there (because there is no change, the derivatives are equal to 0). If the system starts near a fixed point and goes towards it, that fixed point is stable. If the sytem starts near a fixed point and isn't drawn towards it, that fixed point is unstable.\n"
      ],
      "metadata": {
        "id": "9opti8Sz2DJj"
      }
    },
    {
      "cell_type": "markdown",
      "source": [
        "Let's start by computing the equilibrium point in our system:\n",
        "\n",
        "$$\\frac{dP_o}{dt}= .3 - .4P_o = 0\\\\\n",
        "P_o = 0.75$$\n",
        "\n",
        "The equilibrium point occurs at $P_o = 0.75$. If the proportion of open channels is 0.75, the change in the proportion of open channels is 0 so it will never change! \n",
        "\n",
        "Now let's see if this is a stable or unstable point. To do so, we can plot $\\frac{dP_o}{dt}$ vs $P_o$\n"
      ],
      "metadata": {
        "id": "pLJ3qMlq4djv"
      }
    },
    {
      "cell_type": "code",
      "source": [
        "# @markdown Execute to visualize dPo/dt vs Po\n",
        "\n",
        "def plot_derivative_vs_variable(x, dx):\n",
        "\n",
        "  fig, ax = plt.subplots()\n",
        "\n",
        "  ax.plot([-1, 1], [0, 0],'k')\n",
        "  ax.plot(x, dx, 'b')\n",
        "  ax.set(xlabel=r'P$_o$', ylabel=r'$\\frac{dP_o}{dt}$')\n",
        "\n",
        "\n",
        "# Set parameters\n",
        "alpha = .3\n",
        "beta = .1\n",
        "\n",
        "# We will evalute dP_o/dt on a span of possible P_o values\n",
        "Po = np.arange(-1, 1, .1)\n",
        "\n",
        "# Fill in your code here to compute dPo/dt for all Po above\n",
        "dPo_dt = alpha - (beta+alpha)*Po\n",
        "\n",
        "# Uncomment below to use plotting function plot_derivative_vs_variable\n",
        "plot_derivative_vs_variable(Po, dPo_dt)"
      ],
      "metadata": {
        "colab": {
          "base_uri": "https://localhost:8080/",
          "height": 283
        },
        "cellView": "form",
        "id": "SPE9obCX5emX",
        "outputId": "739ffbce-3af2-4491-90ca-cd929abf8d56"
      },
      "execution_count": null,
      "outputs": [
        {
          "output_type": "display_data",
          "data": {
            "text/plain": [
              "<Figure size 432x288 with 1 Axes>"
            ],
            "image/png": "[encoded data removed]"
          },
          "metadata": {
            "needs_background": "light"
          }
        }
      ]
    },
    {
      "cell_type": "markdown",
      "source": [
        "First of all, this validates our found equilibrium point - $\\frac{dP_o}{dt}$ is 0 at $P_o = 0.75$.\n",
        "\n",
        "From this plot you can see that if the proportion of open channels is below 0.75, the derivative is positive. This means that the rate of change of the proportion of open channels is positive, emaning that the proportion of open channels will grow. So if the proportion of open channels is below 0.75, it will grow.\n",
        "\n",
        "If the proportion of open channels is above 0.75, the derivative is negative. So if the proportion of open channels is above 0.75, it will decrease.\n",
        "\n",
        "This means this equilibrium point is stable! The proportion of open channels will converge onto the equilibrium point no matter where it starts.\n",
        "\n",
        "You can see that in the trajectory plot above too - the proportion of open channels starts at .4 and grows to reach 0.75 and remains there."
      ],
      "metadata": {
        "id": "hMHkuEls5mUK"
      }
    },
    {
      "cell_type": "markdown",
      "source": [
        "# Section 2: Two-dimensional dynamical systems\n",
        "\n",
        "A lot of what is covered in this section is covered in greater detail in the following video. You can access the notes for this video here: https://osf.io/sjz5x/"
      ],
      "metadata": {
        "id": "6mzIFnyF1vg2"
      }
    },
    {
      "cell_type": "code",
      "source": [
        "  # @markdown Execute to see video on systems of differential equations\n",
        "  from IPython.display import YouTubeVideo\n",
        "  video = YouTubeVideo(id=\"lV8SoeAxLgM\", width=854, height=480, fs=1, rel=0)\n",
        "  print('Video available at https://youtube.com/watch?v=' + video.id)\n",
        "  display(video)"
      ],
      "metadata": {
        "cellView": "form",
        "id": "TZmdJLs067oq"
      },
      "execution_count": null,
      "outputs": []
    },
    {
      "cell_type": "markdown",
      "metadata": {
        "id": "n8wNY9dldH0t"
      },
      "source": [
        "## Section 2.1: Plotting 2D systems of differential equations\n",
        "\n",
        "TBD"
      ]
    },
    {
      "cell_type": "markdown",
      "source": [
        "## Section 2.2: Understanding trajectories with eigenstuff\n"
      ],
      "metadata": {
        "id": "8mUm-UK56waV"
      }
    },
    {
      "cell_type": "markdown",
      "metadata": {
        "id": "IYGv_MFYfvKJ"
      },
      "source": [
        "### Section 2.2.1: Linear homogenous system\n",
        "\n",
        "Let's assume we have two differential equations of the form:\n",
        "\\begin{align}\n",
        "\\frac{dx_1}{dt} &= a_1x_1 + a_2x_2\\\\\n",
        "\\frac{dx_2}{dt} &= b_1x_1 + b_2x_2\n",
        "\\end{align}\n",
        "\n",
        "We can write this using matrix-vector notation:\n",
        "\n",
        "\\begin{align}\n",
        "\\frac{d\\bar{x}}{dt} = A\\bar{x}\n",
        "\\end{align}\n",
        "\n",
        "where\n",
        "\n",
        "\\begin{align}\n",
        "A = \\begin{bmatrix}a_1 & a_2 \\\\ b_1 & b_2\\end{bmatrix}\n",
        "\\end{align}\n",
        "\n",
        "This is a linear homogenous system.\n",
        "\n",
        "This system has one fixed point at (0, 0).\n",
        "\n",
        "The eigenvalues and eigenvectors of A tell us the stability of this fixed point and what will happen in this system. See below to see what will happen with different eigenvalue options."
      ]
    },
    {
      "cell_type": "code",
      "metadata": {
        "cellView": "form",
        "colab": {
          "base_uri": "https://localhost:8080/",
          "height": 395
        },
        "id": "0GhPEjfmgiJA",
        "outputId": "4a8f1916-0117-465a-fa70-4e7ca548546b"
      },
      "source": [
        "#@markdown Execute this cell to view dynamical systems gif\n",
        "\n",
        "from IPython.display import Image\n",
        "\n",
        "Image(url = 'https://github.com/ebatty/MathToolsforNeuroscience/blob/master/dynsysdemo.gif?raw=True', width=700)"
      ],
      "execution_count": null,
      "outputs": [
        {
          "output_type": "execute_result",
          "data": {
            "text/html": [
              "<img src=\"https://github.com/ebatty/MathToolsforNeuroscience/blob/master/dynsysdemo.gif?raw=True\" width=\"700\"/>"
            ],
            "text/plain": [
              "<IPython.core.display.Image object>"
            ]
          },
          "metadata": {},
          "execution_count": 15
        }
      ]
    },
    {
      "cell_type": "markdown",
      "source": [
        "### Section 2.2.2: Linear nonhomogenous system\n",
        "\n",
        "Let's say you have a very similar system but you have constants added to both differential equations:\n",
        "\n",
        "\\begin{align}\n",
        "\\frac{dx_1}{dt} &= a_1x_1 + a_2x_2 + c_1\\\\\n",
        "\\frac{dx_2}{dt} &= b_1x_1 + b_2x_2 + c_2\n",
        "\\end{align}\n",
        "\n",
        "We can write this using matrix-vector notation:\n",
        "\n",
        "\\begin{align}\n",
        "\\frac{d\\bar{x}}{dt} = A\\bar{x} + \\bar{c}\n",
        "\\end{align}\n",
        "\n",
        "The origin is no longer necessarily a fixed point. Instead, we can compute a new fixed point $\\bar{x_C}$ that results in \n",
        "\n",
        "$$\\frac{d\\bar{x}}{dt}  = 0$$.\n",
        "\n",
        "Now we can classify the dynamics around the fixed point using the eigenvalues of A just as in Section 2.2.1. So the dynamical system will look the same given the eigenvalues category, just around the new fixed point instead of the origin.\n",
        "\n"
      ],
      "metadata": {
        "id": "rvBHBkdU6pyM"
      }
    },
    {
      "cell_type": "markdown",
      "metadata": {
        "id": "3eRKayGkhinn"
      },
      "source": [
        "### Section 2.2.3: Nonhomogenous systems\n",
        "\n",
        "Let's say we have more complex differential equations:\n",
        "\n",
        "\\begin{align}\n",
        "\\frac{dx_1}{dt} &= F(x_1, x_2)\\\\\n",
        "\\frac{dx_2}{dt} &= G(x_1, x_2)\n",
        "\\end{align}\n",
        "\n",
        "where $F$ and $G$ are some complex functions. This system could have any number of fixed points.\n",
        "\n",
        "This system is more complicated that the simple case in Section 2.2.1, but we can still use the information there. \n",
        "\n",
        "First, we need to find the fixed points of this system. It turns out that we can approximate the system near each fixed point as a more simple system:\n",
        "\n",
        "\\begin{align}\n",
        "\\frac{d\\bar{x}}{dt} = J\\bar{x}\n",
        "\\end{align}\n",
        "where $J$ is the Jacobian of the system, the matrix of partial derivatives:\n",
        "\n",
        "$$J = \\begin{bmatrix}\\frac{dF}{dx_1} & \\frac{dF}{dx_2} \\\\ \\frac{dG}{dx_1} & \\frac{dG}{dx_2}\\end{bmatrix}$$\n",
        "\n",
        "So, the eigenvalues of the Jacobian at a fixed point tells us the behavior near that fixed point."
      ]
    }
  ]
}