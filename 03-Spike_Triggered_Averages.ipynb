{
  "nbformat": 4,
  "nbformat_minor": 0,
  "metadata": {
    "colab": {
      "name": "03 - Spike Triggered Averages.ipynb",
      "provenance": [],
      "authorship_tag": "ABX9TyO7Koybz49nT69y06WT/nt7",
      "include_colab_link": true
    },
    "kernelspec": {
      "name": "python3",
      "display_name": "Python 3"
    },
    "language_info": {
      "name": "python"
    }
  },
  "cells": [
    {
      "cell_type": "markdown",
      "metadata": {
        "id": "view-in-github",
        "colab_type": "text"
      },
      "source": [
        "<a href=\"https://colab.research.google.com/github/ebatty/IntroCompNeuro/blob/main/03-Spike_Triggered_Averages.ipynb\" target=\"_parent\"><img src=\"https://colab.research.google.com/assets/colab-badge.svg\" alt=\"Open In Colab\"/></a>"
      ]
    },
    {
      "cell_type": "markdown",
      "metadata": {
        "id": "pMREknGF9XZ7"
      },
      "source": [
        "# 03 - Spike Triggered Averages\n",
        "\n",
        "Coming soon!"
      ]
    }
  ]
}